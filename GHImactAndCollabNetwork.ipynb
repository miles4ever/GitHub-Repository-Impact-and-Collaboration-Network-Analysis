{
 "cells": [
  {
   "cell_type": "markdown",
   "metadata": {},
   "source": [
    "# GitHub Repository Impact and Collaboration Network\n",
    "- Author: Yuzhou Wu"
   ]
  },
  {
   "cell_type": "markdown",
   "metadata": {},
   "source": [
    "## 1. Introduction\n",
    "This project focuses on analyzing the co-commit network to derive insights on influence of github developers in terms of their projects. Being able to evaluate an individual scholar’s scientific influence quantitatively can benefit in multiple ways. For example, the developers can evaluate the validity of repositories based on the owner's influence. Also, the project owners can filter out the pull requests from influential developers or look for impactful users as their social coding collaborators. In addition to the traditional impact metrics of github developers, this project analyzes the graph metrics derived from the importance of developers in their co-commit networks. For both impact metrics and the co-commit network analyses, we can derive insights of impact of developers in the social coding environment across all programming languages.\n",
    "\n",
    "The paper has three main research questions:\n",
    "- **RQ1**: How are developers distributed in terms of programming languages?\n",
    "- **RQ2**: What are the unique features of the collaboration pattern of developers in the social coding network?\n",
    "- **RQ3**: What is the correlation between developer’s position in the co-commit network and influence metrics that can imply the popularity of the developer’s repositories?\n"
   ]
  },
  {
   "cell_type": "markdown",
   "metadata": {},
   "source": [
    "## 2. Reproduction Plan Mapping to the Original Paper"
   ]
  },
  {
   "cell_type": "markdown",
   "metadata": {},
   "source": [
    "### Data Mapping\n",
    "**Original Paper:**\n",
    "- Author profiles:\n",
    "    - Academic Titles\n",
    "    - Country\n",
    "- Citation Metrics:\n",
    "    - h-index\n",
    "    - g-index\n",
    "- Co-authorship network:\n",
    "    - vertices: google scholars\n",
    "    - edges: two scholars having published at least one paper together\n",
    "\n",
    "**Reproduced Paper:**\n",
    "- Developer profiles:\n",
    "    - Primarily used programming languages\n",
    "- Developer Impact Metrics:\n",
    "    - Average pageranks of fork information of the all repositories owned by the developer\n",
    "    - repository-impact metrics (GH-impact, similar to h-index but for github repositories [7]) of the developer\n",
    "- Co-commit network:\n",
    "    - vertices: Github developers\n",
    "    - edges: two developers having commited to at least one repository together\n",
    "\n"
   ]
  },
  {
   "cell_type": "markdown",
   "metadata": {},
   "source": [
    "### Scalable Analysis Mapping\n",
    "**Original Paper:**\n",
    "- Demographic Analysis:\n",
    "    - Author distribution in terms of scientific labels, countries, and academic labels\n",
    "- Co-authorship network analysis:\n",
    "    - Degree: The degree of a node in a network denotes the number of edges connected to the node. For an author in G, the degree represents the number of co-authors\n",
    "    - Clustering coefficient: The clustering coefficient (CC) of a node is defined as the fraction of pairs of the node’s neighbors that are directly connected with each other\n",
    "    - PageRank: an estimate the importance of the nodes in a network. It has been used by the Google Search Engine to rank webpages in its search results\n",
    "    - Connected components: A connected component is a subgraph in which any two nodes are connected to each other by paths. In addition, any node in this subgraph is not connected to any additional node in the supergraph.\n",
    "- Comparison among different author groups:\n",
    "    - analyze the network metrics of co-authorship network with respect to different author groups divided by countries, scientific labels and academic titles\n",
    "- Co-authorship network and citation metrics\n",
    "    - the correlation between the pagerank of co-authorship network and the h-index and g-index\n",
    "\n",
    "**Reproduced Paper:**\n",
    "- Demographic Analysis:\n",
    "    - Developer distribution in terms of primarily used programming languages because the programming language is the only available data in the Github dataset that can be mapped to the orignial demographic analysis\n",
    "- Co-commit network analysis:\n",
    "    - Degree: the degree represents the number of co-committers \n",
    "    - CC: the direct connectivity of paris of node's neighbors of a developer\n",
    "    - PageRank: used to reflect the impact or importance of a developer in the co-commit network\n",
    "    - Connected components: another metric reflecting the connectivity of the network. The network can have different distribution of largely connected or sparsely connected components\n",
    "- Comparison among different developer groups:\n",
    "    - the network metrics across different programming languages will be analyzed\n",
    "- Co-commit network and repository-owner impact metrics\n",
    "    - the correlation between the pagerank of the co-commit network and the GH-impact\n",
    "\n"
   ]
  },
  {
   "cell_type": "markdown",
   "metadata": {},
   "source": [
    "## 3. Project Plan $[56.5 hrs/ 51.5 hrs]$\n",
    "Acutal vs. planned time for each task is denoted as _[actual hours/planned hours]_\n",
    "### Version 1 $[22hrs/ 17.5hrs]$\n",
    "- Data Understanding $[6.5hrs/ 5hrs]$\n",
    "    - Initial data ingestion $[1.5 hrs/ 1 hrs]$\n",
    "    - Describe and assess the data selected from the database $[ 5hrs/ 4hrs]$\n",
    "- Data Preparation $[14hrs/ 11hrs]$\n",
    "    - Data transformation (structure, enrich, clean) $[ 9 hrs/ 6 hrs]$\n",
    "    - Construct data: test run of the scalable analysis to be implemented using a test dataset $[5hrs/ 5 hrs]$\n",
    "- Initial Project Plan (PV1) $[1hrs/ 1hrs]$\n",
    "    - Detailed breakdown of tasks to be completed with time estimations $[1 hrs/ 1 hrs]$\n",
    "- Accurate Report of Time Spend on Each Task in V1 $[ 0.5 hrs/ 0.5 hrs]$\n",
    "\n",
    "### Version 2 $[21 hrs/ 19hrs]$\n",
    "- Data Preparation $[12 hrs/ 10hrs]$\n",
    "    - Finalize data selection and ingestion $[6 hrs/ 5hrs]$\n",
    "    - Complete data tranformation $[6 hrs/ 5hrs]$\n",
    "- Implementation of Scalable Analyses $[9 hrs/ 6hrs]$\n",
    "    - Demongraphic analysis of the distribution authors in terms of language labels $[5 hrs/ 2hrs]$\n",
    "    - Generate repository impact metric based on pagerank from GitHub fork information to evaluate the impact of GitHub repositories $[4 hrs/ 4hrs]$\n",
    "    \n",
    "### Version 3 $[12 hrs/ 13 hrs]$\n",
    "- Implementation of Scalable Analyses $[8 hrs/ 7hrs]$\n",
    "    - construct the co-commit network analysis $[4 hrs/ 4 hrs]$\n",
    "    - compute the graph metric for repository impact $[4 hrs/ 3hrs]$\n",
    "- Assessment of Scalable Analyses $[2 hrs/ 3 hrs]$\n",
    "    - Finalising the co-commit network analysis $[1 hrs/ 1.5 hrs]$\n",
    "    - Comparison and correlation between repository impact metric to the graph metric $[1 hrs/ 1.5 hrs]$\n",
    "- Evalute Results and Discussion $[1 hrs/ 1.5 hrs]$\n",
    "- Reivew the process and the project $[1 hrs/ 1.5 hrs]$\n",
    "\n",
    "### Version 4 $[1.5 hrs/ 2 hrs]$\n",
    "- Produce the Final Report $[1.5hrs/ 2 hrs]$"
   ]
  },
  {
   "cell_type": "code",
   "execution_count": null,
   "metadata": {
    "scrolled": true,
    "tags": []
   },
   "outputs": [],
   "source": [
    "# set up pyspark environment\n",
    "# The latest pip release of pyspark (pyspark 2.3.2 - 2.4.4 at time of writing) doesn't support python 3.8. Downgrade to python 3.7\n",
    "\n",
    "import sys\n",
    "print(\"My Python version is:\" , sys.version)\n",
    "\n",
    "# !pip install --user pyspark findspark\n",
    "import os\n",
    "os.environ[\"HADOOP_HOME\"] = \"C:/Courses/MIE1512/Material/Spark/winutils/\"\n",
    "os.environ[\"JAVA_HOME\"] = \"C:/progra~2/Java/jdk1.8.0_221/\"\n",
    "os.environ[\"JRE_HOME\"] = \"C:/progra~2/Java/jdk1.8.0_221/jre/\"\n",
    "\n",
    "import findspark\n",
    "findspark.init(\"C:/Courses/MIE1512/Material/Spark/spark-2.3.2-bin-hadoop2.7/\")\n",
    "\n",
    "import pyspark\n",
    "sc = pyspark.SparkContext(appName=\"myAppName\")\n",
    "spark = pyspark.sql.SQLContext(sc)"
   ]
  },
  {
   "cell_type": "code",
   "execution_count": null,
   "metadata": {},
   "outputs": [],
   "source": [
    "os.getcwd()"
   ]
  },
  {
   "cell_type": "code",
   "execution_count": null,
   "metadata": {},
   "outputs": [],
   "source": [
    "# import libraries:\n",
    "from pyspark.sql import *\n",
    "from pyspark.sql.functions import *\n",
    "from pyspark.sql.types import *\n",
    "from datetime import datetime\n",
    "import seaborn as sns\n",
    "import pandas as pd\n",
    "import numpy as np\n",
    "import matplotlib.pyplot as plt\n",
    "import matplotlib\n",
    "from graphframes import GraphFrame"
   ]
  },
  {
   "cell_type": "markdown",
   "metadata": {
    "tags": []
   },
   "source": [
    "## 4. Data Understanding\n",
    "###  4.1 Data Ingestion\n",
    "The data was collected from GHTorrent. GHTorrent uses GitHub REST API to monitor the GitHub public events and create high quality raw data and data with linked entities, which allows researchers to derive insights from repositories and activities on GitHub. For this project, ght_2018_04_01 will be selected from the ghtorrent-bq project.\n",
    "\n",
    "The detailed descriptions of tables of interest are selected from the original dataset. Each table with selected attributed are shown in the following:\n",
    "- ghtorrent-bq.ght_2018_04_01.projects\n",
    "    * id: project id\n",
    "    * owener_id: project owener's user ID\n",
    "    * language: the primary language at collection time\n",
    "    * created_at: date when the project was created\n",
    "    * forked_from: id of the project the project is forked from or empty if the porject is not forked\n",
    "    * deleted: whether the project has been deleted from Github. Deleting the source reposotory will delete the original commits\n",
    "    * updated_at: date of the last full update was done for this project\n",
    "- ghtorrent-bq.ght_2018_04_01.commits\n",
    "    * id: commit id\n",
    "    * committer_id: the id of the user who made the commit\n",
    "    * project_id: project that this commit has been first associated with. This might not be the project this commit was initially pushed to, e.g. in case the fork is processed before the parent, so the table \"project_commit\" is nedded\n",
    "    * created_at: date when the commit was created\n",
    "- ghtorrent-bq.ght_2018_04_01.project_commits\n",
    "    * commit_id: unique commit id, note that one commit can be shared by multiple projects if one is forked from another\n",
    "    * project_id: project id\n",
    "- ghtorrent-bq.ght_2018_04_01.users\n",
    "    * id: user id\n",
    "    * login: username\n",
    "    * company:  the company of the user\n",
    "    * created_at: the date the user created the account\n",
    "    * type: individual user or organization user (org user cannot make commits but can own projects)\n",
    "    * fake: users are fake if they cannot own repositories or conduct actions but appear as authors or commiters\n",
    "    * deleted: the user was once active on GitHub but GHTorrent can no longer get his/her details\n",
    "- ghtorrent-bq.ght_2018_04_01.project_members\n",
    "  * repo_id: project id\n",
    "  * user_id: user id\n",
    "  * created_at: only filled in accurately for memberships for which GHTorrent has recorded a corresponding event. Otherwise, it is filled in with the latest date that the corresponding user or project has been created\n",
    "- ghtorrent-bq.ght_2018_04_01.watchers:\n",
    "    * repo_id: repository id\n",
    "    * user_id: id of user who has starred or watched the project\n",
    "    * created_at: date when the user starred or watched the project, note that it is only filled in accurately for starrings for which GHTorrent has recorded a corresponding event. Otherwise, it is filled in with the latest date that the corresponding user or project has been created.\n",
    "- ghtorrent-bq.ght_2018_04_01.pull_request\n",
    "    * id: pull request id attribute of the pull_request table, the same as the output from the pull_request_id operation from the table 'issues', 'pull_request_commits', and 'pull_request_history' \n",
    "    * head_repo_id: the repository id that the pull request is from\n",
    "    * base_repo_id: the repository id that the pull request is targeting at\n",
    "    * pullreq_id: Github's pull request unique identifier\n",
    "    * intra_branch: boolean attribute that signifies that the head and base repositories are the same"
   ]
  },
  {
   "cell_type": "markdown",
   "metadata": {},
   "source": [
    "### 4.2 Describe and Assess the Data"
   ]
  },
  {
   "cell_type": "markdown",
   "metadata": {},
   "source": [
    "#### Basic Questions to Assess Structure\n",
    "**1. Do all records in the dataset contain the same fields?**\n",
    "\n",
    "Through inspection, all records in the ghtorrent tables contain the same fields (i.e., the datasets are rectangular that can be ingested as tables of fixed number of rows and columns)\n",
    "   \n",
    "**2. How can you access the same fields across records? By position? By name?**\n",
    "\n",
    "Using the field names (column names) allows accessing across records (rows)\n",
    "   \n",
    "**3. How are the records delimited/separated in the dataset? Do you need sophisticated parsing logic to separate the records from one another?**\n",
    "\n",
    "The records are seperated by comma as '.csv' files, so no further parsing processes are needed.\n",
    "   \n",
    "**4. How are record fields encoded? Human readable strings? Binary numbers? Hash keys? Compressed? Enumerated codes?**\n",
    "\n",
    "All fields are encoded in human readabe strings"
   ]
  },
  {
   "cell_type": "markdown",
   "metadata": {},
   "source": [
    "#### Basic Questions to Assess Data Granuality\n",
    "**1. What kind of thing (person, object, relationship, event, etc.) do the records represent?**\n",
    "\n",
    "The records represent the total weekly number of \"events\" - the number of users who have starred a repository in a given week.\n",
    "\n",
    "A single record in the tables from ghtorrent dataset represents a single user, project, event (e.g., commit and PR). In watchers table, a single record represents the weekly number of stars received by a repository. \n",
    "   \n",
    "**2. Are the records homogeneous (represent the same kinds of things)? Or heterogeneous?**\n",
    "\n",
    "All records in the same table represent the same kinds of things, so they are homogeneous.\n",
    "   \n",
    "**3. What alternative interpretations of the records are there? For example, if the records appear to be customers, could they actually be all known contacts (only some of which are customers)?**\n",
    "\n",
    "The user records can be either individual users or organizations. Individual users can own and act on projects while organizations can only own projects. In the watchers table, the watchers and stars are interchangable interpretations."
   ]
  },
  {
   "cell_type": "markdown",
   "metadata": {},
   "source": [
    "#### Basic Questions to Assess Data Accuracy\n",
    "**1.Date Times**\n",
    "\n",
    "All date time entities are encoded in TIME STAMPS in UTC. null entries in the 'created_at' fields are filled with the latest date that the corresponding user or project has been created [5].\n",
    "\n",
    "**2. Mechanisms that produce the data**\n",
    "\n",
    "GHTorrent uses GIT REST API to monitor the Github events and retrieve the data for sync operations in a distributed manner. There no human errors such as mis-spellings and nonstandard abbreviations. However, like most data sync operations over unreliable networks, the process is subject to network and system disturbances that can result in inevitable inconsistancies and voids in data collection"
   ]
  },
  {
   "cell_type": "markdown",
   "metadata": {},
   "source": [
    "#### Basic Questions to Assess Data Temporality\n",
    "**1.When was the dataset collected?**\n",
    "\n",
    "The GHTorrent dataset was collected from September 2016.\n",
    "   \n",
    "**2. Were all the records and record fields collected/measured at the same time? If not, is the temporal range significant?**\n",
    "\n",
    "No, they were not. The temporal range is significant. If the temporal range is too narrow, there would be not enough data to analyse the network pattern of co-commitment or reposiotry impact through star or fork information. In addition, the overlapped periods of different users' first and last commits on the same projects might be used to determine if they ever collaborate on the same proeject during that time.\n",
    "   \n",
    "**3. Are the timestamps associated with collection of the data known and available (as a record field) or as associated metadata?**\n",
    "\n",
    "Yes, they are recorded in the 'created_at' columns with uniform TIMESTAMPs in the UTC timezone.\n",
    "\n",
    "**4. Have some records or record field values been modified after the time of creation? Are the timestamps of these modifications available?**\n",
    "\n",
    "Yes, some records are. For example, if the source project is deleted some time after creation, the associated commits will also be deleted. No, the timestamps of the deletions are not available but the existance of the project status is flagged by the boolean variable 'deleted', so these deleted projects are excluded for analyses.\n",
    "\n",
    "**5. In what ways can you determine if the data is “stale”? For example, you might have purchased a marketing leads database and want to verify the contact information for the people represented in the dataset. Is it sufficient to sample the records and manually verify the data? Can you automatically verify it by using third-party services?**\n",
    "\n",
    "Similar to the way that GHTorrent dataset was acquired, we can use the GitHub REST API to collect data, for example, repository id, user login, and organization, and draw a random sample for manual verification on the GitHub database.\n",
    "\n",
    "**6. If there are conflicting values in the data (i.e. multiple mailing addresses for a person), can you use timestamps to determine which value is \"correct\"**\n",
    "\n",
    "No, there are no conflicting values. Combining the information from the 'deleted' and 'created_at' fields, we can identify the valid adn correct records"
   ]
  },
  {
   "cell_type": "markdown",
   "metadata": {},
   "source": [
    "#### Basic Questions to Assess Data Scope\n",
    "**1.Given the granularity of the dataset, what characteristics of the things (i.e. people, objects, relationships, events, etc.) represented by the records are captured by the record fields? What characteristics are not captured?**\n",
    "\n",
    "The activities/relationship between repositories-and-repositories (e.g., fork information) and events between users-and-repositories (e.g., starring, commits, etc.) are captured by  the record fields.\n",
    "   \n",
    "**2. Are the record fields consistent? For example, does the customer's age field make sense relative to the date-of-birth field? If the record corresponds to a purchase transaction, does the cost of the listed set of purchased items add up to the total transaction amount?**\n",
    "\n",
    "Yes, the record fields are consistent.\n",
    "   \n",
    "**3. For the analysis you want to perform, can you deduce or infer additional relevant characteristics from the ones that you want? For example, can you infer the demographics of the people in a household from partner and dependents record fields?**\n",
    "\n",
    "We can infer if the developers are active and primary contributers to a certain repository through the query algorithm based on commit counts. Also, by inspecting the overlap periods of commits of different users on the same proejct, their collaboration relationships can be deduced.\n",
    "\n",
    "**4. Are the same record fields available for all records? Are they accessible via the same specification (position, name, etc.)?**\n",
    "\n",
    "Yes, the same records are available for all records. All the associated records can be accessed by querying under the field name.\n",
    "\n",
    "**5. Do the record in the dataset represent the entire population of associated things (people, objects, relationships, events, etc.)? Are these missing records (e.g., things in the population, say people, with no associated record)? Are the missing records randomly missing or systematically missing?**\n",
    "\n",
    "No, the record in the dataset represents only the fraction of population as the GHTorrent collects the timeline of events and activities on GitHub since the start time. Due to the disturbances in network during the data sync operation, inevitable spurious inconsistency in data collection are expected"
   ]
  },
  {
   "cell_type": "markdown",
   "metadata": {},
   "source": [
    "## 5. Data Preparation"
   ]
  },
  {
   "cell_type": "markdown",
   "metadata": {},
   "source": [
    "### 5.1 Data Selection"
   ]
  },
  {
   "cell_type": "markdown",
   "metadata": {},
   "source": [
    "#### Select active repositories  \n",
    "To analyze the impact of a repository, it needs to be active. Kalliamvakou et al. discovered that most repositories are inactive that the activity can be measured by the time since the last commit or pull request(PR) [3].\n",
    "\n",
    "To select the active repositories, we can run the followin process on GHTorrent from the whole population:\n",
    "\n",
    "1. exclude repos that received no commits for the past year from the date of creation of the dataset ($A$)\n",
    "2. from $A$, exclude repos that never received a PR ($B$)"
   ]
  },
  {
   "cell_type": "markdown",
   "metadata": {},
   "source": [
    "1. create table `active_commit_projects` that contains all projects not deleted and having commits within a year"
   ]
  },
  {
   "cell_type": "code",
   "execution_count": 4,
   "metadata": {},
   "outputs": [],
   "source": [
    "'''\n",
    "SELECT\n",
    "  project_id,\n",
    "  owner_id,\n",
    "  forked_from,\n",
    "  project_language,\n",
    "  project_created_at,\n",
    "  last_commit_date\n",
    "FROM (\n",
    "  SELECT\n",
    "    c.project_id AS project_id,\n",
    "    c.created_at AS last_commit_date,\n",
    "    p.forked_from AS forked_from,\n",
    "    p.language AS project_language,\n",
    "    p.owner_id AS owner_id,\n",
    "    p.created_at AS project_created_at,\n",
    "    ROW_NUMBER() OVER (PARTITION BY project_id ORDER BY c.created_at DESC) AS commit_date_rank\n",
    "  FROM\n",
    "    `ghtorrent-bq.ght_2018_04_01.commits` AS c\n",
    "  JOIN\n",
    "    `ghtorrent-bq.ght_2018_04_01.projects` AS p\n",
    "  ON\n",
    "    c.project_id = p.id\n",
    "  WHERE\n",
    "    (c.created_at BETWEEN TIMESTAMP(DATE_ADD(DATE '2018-04-01', INTERVAL -1 YEAR)) AND TIMESTAMP(\"2018-04-01\"))\n",
    "    AND p.deleted = false\n",
    ")\n",
    "WHERE\n",
    "  commit_date_rank = 1\n",
    "ORDER BY\n",
    "  last_commit_date desc\n",
    "''';"
   ]
  },
  {
   "cell_type": "markdown",
   "metadata": {},
   "source": [
    "2. create table `active_projects` that have recent commits and at least one PR associated with them"
   ]
  },
  {
   "cell_type": "code",
   "execution_count": 5,
   "metadata": {},
   "outputs": [],
   "source": [
    "'''\n",
    "SELECT\n",
    "  DISTINCT project_id,\n",
    "  owner_id,\n",
    "  forked_from,\n",
    "  project_language,\n",
    "  project_created_at,\n",
    "  last_commit_date\n",
    "FROM \n",
    "  `mie1512github.ght.active_commit_projects` acp\n",
    "INNER JOIN \n",
    "  `ghtorrent-bq.ght_2018_04_01.pull_requests` pr\n",
    "ON \n",
    "  acp.project_id = pr.base_repo_id\n",
    "''';"
   ]
  },
  {
   "cell_type": "code",
   "execution_count": 4,
   "metadata": {},
   "outputs": [],
   "source": [
    "# ingest active projects as spark dataframe\n",
    "# Load active_projects.csv\n",
    "active_projectsDF = spark.read.csv(os.getcwd()+\"/active_projects.csv\",\n",
    "                                   header=True,\n",
    "                                   inferSchema=True,\n",
    "                                   mode=\"DROPMALFORMED\")\n",
    "active_projectsDF.createOrReplaceTempView(\"active_projects\")"
   ]
  },
  {
   "cell_type": "markdown",
   "metadata": {},
   "source": [
    "3. Create table `project_commit_counts` to find commit counts for each projects "
   ]
  },
  {
   "cell_type": "code",
   "execution_count": 10,
   "metadata": {},
   "outputs": [],
   "source": [
    "'''\n",
    "SELECT  \n",
    "    pc.project_id project_id,\n",
    "    count(1) commit_count\n",
    "FROM `ghtorrent-bq.ght_2018_04_01.project_commits` pc\n",
    "GROUP BY pc.project_id\n",
    "''';"
   ]
  },
  {
   "cell_type": "code",
   "execution_count": 11,
   "metadata": {},
   "outputs": [],
   "source": [
    "# ingest project_commit_counts as spark dataframe\n",
    "# Load project_commit_counts.csv\n",
    "project_commit_countsDF = spark.read.csv(os.getcwd()+\"/project_commit_counts.csv\",\n",
    "                                   header=True,\n",
    "                                   inferSchema=True,\n",
    "                                   mode=\"DROPMALFORMED\")\n",
    "project_commit_countsDF.createOrReplaceTempView('project_commit_counts')"
   ]
  },
  {
   "cell_type": "markdown",
   "metadata": {},
   "source": [
    "4. Merge the table `project_commit_counts` and `active_projects` to add the field of commit counts to active projects table"
   ]
  },
  {
   "cell_type": "code",
   "execution_count": 12,
   "metadata": {},
   "outputs": [],
   "source": [
    "'''\n",
    "SELECT  \n",
    "    *\n",
    "FROM \n",
    "    `mie1512github.ght.active_projects` ap\n",
    "JOIN `mie1512github.ght.project_commit_counts` pcc\n",
    "ON ap.project_id = pcc.project_id\n",
    "ORDER BY pcc.commit_count desc \n",
    "''';"
   ]
  },
  {
   "cell_type": "markdown",
   "metadata": {},
   "source": [
    "The query result was acquired and compared to the result from joining two tables in step 3 and 4, and they were verified to be the same. However, I would like to conduct exploratory anaylsis on originial commit counts and commit counts for only active projects, so this project proceeded with the latter method"
   ]
  },
  {
   "cell_type": "code",
   "execution_count": 13,
   "metadata": {},
   "outputs": [],
   "source": [
    "active_project_commitsDF = spark.sql('''\n",
    "SELECT\n",
    "    ap.project_id, \n",
    "    ap.project_id, \n",
    "    ap.forked_from, \n",
    "    ap.project_language, \n",
    "    ap.project_created_at,\n",
    "    ap.last_commit_date,\n",
    "    pcc.commit_count\n",
    "FROM \n",
    "    active_projects ap\n",
    "JOIN  project_commit_counts pcc\n",
    "ON ap.project_id = pcc.project_id\n",
    "ORDER BY pcc.commit_count desc \n",
    "''')\n",
    "active_project_commitsDF.createOrReplaceTempView('active_project_commits')"
   ]
  },
  {
   "cell_type": "markdown",
   "metadata": {},
   "source": [
    "5. Get table `active_project_info` that contains the basic url, repo name, owner name information of active projects"
   ]
  },
  {
   "cell_type": "code",
   "execution_count": 14,
   "metadata": {},
   "outputs": [],
   "source": [
    "'''\n",
    "SELECT  a.owner_id,\n",
    "    a.id,\n",
    "    a.name repo_name,\n",
    "    a.url,\n",
    "    u.login owner_login\n",
    "FROM `ghtorrent-bq.ght_2018_04_01.projects` a , `ghtorrent-bq.ght_2018_04_01.users` u,`mie1512github.ght.active_projects` ap\n",
    "WHERE u.id = a.owner_id AND ap.project_id = a.id\n",
    "''';"
   ]
  },
  {
   "cell_type": "code",
   "execution_count": 15,
   "metadata": {},
   "outputs": [],
   "source": [
    "active_project_infoDF = spark.read.csv(os.getcwd()+\"/active_project_info.csv\",\n",
    "                                   header=True,\n",
    "                                   inferSchema=True,\n",
    "                                   mode=\"DROPMALFORMED\")\n",
    "active_project_infoDF.createOrReplaceTempView('active_project_info')"
   ]
  },
  {
   "cell_type": "markdown",
   "metadata": {},
   "source": [
    "#### Select active users"
   ]
  },
  {
   "cell_type": "markdown",
   "metadata": {},
   "source": [
    "create table `real_committers` that eliminates fake users and those who commit less than once or not work on the active active projects, it returns (user info, project id, lastest commit, oldest commit, commit counts)"
   ]
  },
  {
   "cell_type": "markdown",
   "metadata": {},
   "source": [
    "- query restuls from `ghtorrent` dataset"
   ]
  },
  {
   "cell_type": "code",
   "execution_count": 13,
   "metadata": {},
   "outputs": [],
   "source": [
    "'''\n",
    "SELECT \n",
    "    login,\n",
    "    user_id,\n",
    "    user_type,\n",
    "    project_id,\n",
    "    latest_commit,\n",
    "    oldest_commit,\n",
    "    commit_count\n",
    "FROM\n",
    "    (SELECT\n",
    "        u.login AS login,\n",
    "        u.id AS user_id,\n",
    "        u.type AS user_type,\n",
    "        pcc.commit_id AS commit_id,\n",
    "        pcc.project_id AS project_id,\n",
    "        MAX(pcc.created_at) OVER (PARTITION BY pcc.project_id, u.id, u.login) AS latest_commit,\n",
    "        MIN(pcc.created_at) OVER (PARTITION BY pcc.project_id, u.id, u.login) AS oldest_commit,\n",
    "        COUNT(pcc.created_at) OVER (PARTITION BY pcc.project_id, u.id, u.login) AS commit_count\n",
    "    FROM(\n",
    "        SELECT \n",
    "        pc.project_id project_id,\n",
    "        c.committer_id committer_id,\n",
    "        pc.commit_id commit_id,\n",
    "        c.created_at created_at\n",
    "        FROM `ghtorrent-bq.ght_2018_04_01.commits` AS c\n",
    "        JOIN `ghtorrent-bq.ght_2018_04_01.project_commits` AS pc\n",
    "        ON c.id = pc.commit_id\n",
    "        WHERE pc.project_id IN (\n",
    "            SELECT project_id\n",
    "            FROM `mie1512github.ght.active_projects`\n",
    "        )\n",
    "    ) pcc\n",
    "    JOIN\n",
    "        `ghtorrent-bq.ght_2018_04_01.users` AS u\n",
    "    ON\n",
    "        pcc.committer_id  = u.id\n",
    "    WHERE u.fake = false \n",
    "        AND u.deleted = false   )\n",
    "GROUP BY     \n",
    "    login,\n",
    "    user_id,\n",
    "    user_type,\n",
    "    project_id,\n",
    "    latest_commit,\n",
    "    oldest_commit,\n",
    "    commit_count\n",
    "ORDER BY commit_count desc\n",
    "''';"
   ]
  },
  {
   "cell_type": "markdown",
   "metadata": {},
   "source": [
    "#### Ingest Star Counts per Repository"
   ]
  },
  {
   "cell_type": "markdown",
   "metadata": {},
   "source": [
    "Create table `project_stars` that records the number of stars received for each project"
   ]
  },
  {
   "cell_type": "code",
   "execution_count": 14,
   "metadata": {},
   "outputs": [],
   "source": [
    "'''\n",
    "SELECT  \n",
    "    DISTINCT w.repo_id project_id,\n",
    "    count(1) OVER (PARTITION BY w.repo_id) AS star_count ,\n",
    "    MAX(w.created_at) OVER (PARTITION BY w.repo_id) AS latest_star_date,\n",
    "    MIN(w.created_at) OVER (PARTITION BY w.repo_id) AS oldest_star_date\n",
    "FROM \n",
    "    `ghtorrent-bq.ght_2018_04_01.watchers` w\n",
    "ORDER BY star_count desc\n",
    "''';"
   ]
  },
  {
   "cell_type": "markdown",
   "metadata": {},
   "source": [
    "### 5.2 Exploratory Analyses"
   ]
  },
  {
   "cell_type": "markdown",
   "metadata": {},
   "source": [
    "#### 5.2.1 Exploratory Analysis on Active Projects"
   ]
  },
  {
   "cell_type": "code",
   "execution_count": 15,
   "metadata": {},
   "outputs": [
    {
     "name": "stdout",
     "output_type": "stream",
     "text": [
      "root\n",
      " |-- project_id: integer (nullable = true)\n",
      " |-- owner_id: integer (nullable = true)\n",
      " |-- forked_from: integer (nullable = true)\n",
      " |-- project_language: string (nullable = true)\n",
      " |-- project_created_at: string (nullable = true)\n",
      " |-- last_commit_date: string (nullable = true)\n",
      "\n",
      "number of active projects:  2166288\n"
     ]
    }
   ],
   "source": [
    "active_projectsDF.printSchema()\n",
    "print(\"number of active projects: \",active_projectsDF.count())"
   ]
  },
  {
   "cell_type": "markdown",
   "metadata": {},
   "source": [
    "**Comment:** There are only 2166288 active projects (around 2.5% of 83624114 projects in the entire dataset) that have commit actions within the year of the date of data collection and at least one pull request, which brought us a subset of data we can focus our analysis on. There were 18838050 projects (22.5% of the total projects) having commits in the recent year at that time, and 2166288 active projects (11.5% of those having commits lately) have at least one PR."
   ]
  },
  {
   "cell_type": "code",
   "execution_count": 16,
   "metadata": {},
   "outputs": [
    {
     "name": "stdout",
     "output_type": "stream",
     "text": [
      "root\n",
      " |-- owner_id: integer (nullable = true)\n",
      " |-- id: integer (nullable = true)\n",
      " |-- repo_name: string (nullable = true)\n",
      " |-- url: string (nullable = true)\n",
      " |-- owner_login: string (nullable = true)\n",
      "\n"
     ]
    }
   ],
   "source": [
    "active_project_infoDF.printSchema()"
   ]
  },
  {
   "cell_type": "markdown",
   "metadata": {},
   "source": [
    "Join `active_project_info` with `active_projects` for a table with more detailed information "
   ]
  },
  {
   "cell_type": "code",
   "execution_count": 16,
   "metadata": {},
   "outputs": [],
   "source": [
    "active_projectsDF = spark.sql('''\n",
    "SELECT ap.project_id,\n",
    "    repo_name,\n",
    "    api.owner_id,\n",
    "    owner_login,\n",
    "    url,\n",
    "    forked_from,\n",
    "    project_language,\n",
    "    project_created_at,\n",
    "    last_commit_date\n",
    "FROM active_projects AS ap, active_project_info AS api\n",
    "WHERE ap.project_id = api.id\n",
    "''')\n",
    "active_projectsDF.createOrReplaceTempView('active_projects')"
   ]
  },
  {
   "cell_type": "code",
   "execution_count": 18,
   "metadata": {},
   "outputs": [
    {
     "data": {
      "text/html": [
       "<div>\n",
       "<style scoped>\n",
       "    .dataframe tbody tr th:only-of-type {\n",
       "        vertical-align: middle;\n",
       "    }\n",
       "\n",
       "    .dataframe tbody tr th {\n",
       "        vertical-align: top;\n",
       "    }\n",
       "\n",
       "    .dataframe thead th {\n",
       "        text-align: right;\n",
       "    }\n",
       "</style>\n",
       "<table border=\"1\" class=\"dataframe\">\n",
       "  <thead>\n",
       "    <tr style=\"text-align: right;\">\n",
       "      <th></th>\n",
       "      <th>project_id</th>\n",
       "      <th>repo_name</th>\n",
       "      <th>owner_id</th>\n",
       "      <th>owner_login</th>\n",
       "      <th>url</th>\n",
       "      <th>forked_from</th>\n",
       "      <th>project_language</th>\n",
       "      <th>project_created_at</th>\n",
       "      <th>last_commit_date</th>\n",
       "    </tr>\n",
       "  </thead>\n",
       "  <tbody>\n",
       "    <tr>\n",
       "      <th>0</th>\n",
       "      <td>471</td>\n",
       "      <td>AugustPenguin</td>\n",
       "      <td>3969</td>\n",
       "      <td>tomer</td>\n",
       "      <td>https://api.github.com/repos/tomer/AugustPenguin</td>\n",
       "      <td>486.0</td>\n",
       "      <td>HTML</td>\n",
       "      <td>2012-07-09 08:24:08 UTC</td>\n",
       "      <td>2017-09-23 21:38:08 UTC</td>\n",
       "    </tr>\n",
       "    <tr>\n",
       "      <th>1</th>\n",
       "      <td>496</td>\n",
       "      <td>hubot</td>\n",
       "      <td>142</td>\n",
       "      <td>github</td>\n",
       "      <td>https://api.github.com/repos/github/hubot</td>\n",
       "      <td>NaN</td>\n",
       "      <td>CoffeeScript</td>\n",
       "      <td>2011-08-27 08:30:59 UTC</td>\n",
       "      <td>2017-06-12 08:08:54 UTC</td>\n",
       "    </tr>\n",
       "    <tr>\n",
       "      <th>2</th>\n",
       "      <td>833</td>\n",
       "      <td>redis-doc</td>\n",
       "      <td>5260</td>\n",
       "      <td>antirez</td>\n",
       "      <td>https://api.github.com/repos/antirez/redis-doc</td>\n",
       "      <td>NaN</td>\n",
       "      <td>Ruby</td>\n",
       "      <td>2010-09-16 15:34:02 UTC</td>\n",
       "      <td>2018-03-21 12:36:31 UTC</td>\n",
       "    </tr>\n",
       "    <tr>\n",
       "      <th>3</th>\n",
       "      <td>1088</td>\n",
       "      <td>linux</td>\n",
       "      <td>5203</td>\n",
       "      <td>torvalds</td>\n",
       "      <td>https://api.github.com/repos/torvalds/linux</td>\n",
       "      <td>NaN</td>\n",
       "      <td>C</td>\n",
       "      <td>2011-09-04 22:48:12 UTC</td>\n",
       "      <td>2018-03-31 04:53:57 UTC</td>\n",
       "    </tr>\n",
       "    <tr>\n",
       "      <th>4</th>\n",
       "      <td>1591</td>\n",
       "      <td>antlrcs</td>\n",
       "      <td>8795</td>\n",
       "      <td>antlr</td>\n",
       "      <td>https://api.github.com/repos/antlr/antlrcs</td>\n",
       "      <td>NaN</td>\n",
       "      <td>C#</td>\n",
       "      <td>2010-01-08 22:11:56 UTC</td>\n",
       "      <td>2018-02-19 20:15:56 UTC</td>\n",
       "    </tr>\n",
       "  </tbody>\n",
       "</table>\n",
       "</div>"
      ],
      "text/plain": [
       "   project_id      repo_name  owner_id owner_login  \\\n",
       "0         471  AugustPenguin      3969       tomer   \n",
       "1         496          hubot       142      github   \n",
       "2         833      redis-doc      5260     antirez   \n",
       "3        1088          linux      5203    torvalds   \n",
       "4        1591        antlrcs      8795       antlr   \n",
       "\n",
       "                                                url  forked_from  \\\n",
       "0  https://api.github.com/repos/tomer/AugustPenguin        486.0   \n",
       "1         https://api.github.com/repos/github/hubot          NaN   \n",
       "2    https://api.github.com/repos/antirez/redis-doc          NaN   \n",
       "3       https://api.github.com/repos/torvalds/linux          NaN   \n",
       "4        https://api.github.com/repos/antlr/antlrcs          NaN   \n",
       "\n",
       "  project_language       project_created_at         last_commit_date  \n",
       "0             HTML  2012-07-09 08:24:08 UTC  2017-09-23 21:38:08 UTC  \n",
       "1     CoffeeScript  2011-08-27 08:30:59 UTC  2017-06-12 08:08:54 UTC  \n",
       "2             Ruby  2010-09-16 15:34:02 UTC  2018-03-21 12:36:31 UTC  \n",
       "3                C  2011-09-04 22:48:12 UTC  2018-03-31 04:53:57 UTC  \n",
       "4               C#  2010-01-08 22:11:56 UTC  2018-02-19 20:15:56 UTC  "
      ]
     },
     "execution_count": 18,
     "metadata": {},
     "output_type": "execute_result"
    }
   ],
   "source": [
    "active_projectsDF.limit(5).toPandas()"
   ]
  },
  {
   "cell_type": "code",
   "execution_count": 17,
   "metadata": {},
   "outputs": [],
   "source": [
    "commit_countsDF = spark.sql('''\n",
    "SELECT commit_count, count(1) AS num_of_repos\n",
    "FROM project_commit_counts\n",
    "GROUP BY commit_count\n",
    "ORDER BY commit_count asc\n",
    "''')\n",
    "commit_countsDF.createOrReplaceTempView('commit_counts')"
   ]
  },
  {
   "cell_type": "code",
   "execution_count": 20,
   "metadata": {},
   "outputs": [
    {
     "data": {
      "text/plain": [
       "42800"
      ]
     },
     "execution_count": 20,
     "metadata": {},
     "output_type": "execute_result"
    }
   ],
   "source": [
    "commit_countsDF.count()"
   ]
  },
  {
   "cell_type": "code",
   "execution_count": 21,
   "metadata": {},
   "outputs": [
    {
     "name": "stdout",
     "output_type": "stream",
     "text": [
      "+------------+------------+\n",
      "|commit_count|num_of_repos|\n",
      "+------------+------------+\n",
      "|           1|    22937971|\n",
      "|           2|     8223927|\n",
      "|           3|     5039510|\n",
      "|           4|     3186556|\n",
      "|           5|     2371735|\n",
      "|           6|     1881634|\n",
      "|           7|     1507865|\n",
      "|           8|     1255023|\n",
      "|           9|     1086349|\n",
      "|          10|      921002|\n",
      "+------------+------------+\n",
      "only showing top 10 rows\n",
      "\n"
     ]
    }
   ],
   "source": [
    "commit_countsDF.show(10)"
   ]
  },
  {
   "cell_type": "code",
   "execution_count": 22,
   "metadata": {},
   "outputs": [
    {
     "name": "stdout",
     "output_type": "stream",
     "text": [
      "+-----------------+\n",
      "|sum(num_of_repos)|\n",
      "+-----------------+\n",
      "|          3345964|\n",
      "+-----------------+\n",
      "\n"
     ]
    }
   ],
   "source": [
    "spark.sql('''\n",
    "SELECT \n",
    "    sum(num_of_repos)\n",
    "FROM (\n",
    "    SELECT *\n",
    "    FROM commit_counts\n",
    "    WHERE commit_count > 100\n",
    "    )\n",
    "''').show()"
   ]
  },
  {
   "cell_type": "markdown",
   "metadata": {},
   "source": [
    "**Comment:** By inspecting the number of repositories corresponding to commit counts, there were 3345964/83624114 ~= 4% of repositories having commit counts larger than 100. In addition, 27.4% of repositories had only 1 commit"
   ]
  },
  {
   "cell_type": "markdown",
   "metadata": {},
   "source": [
    "Since there were only 4% of repositories with commit counts larger than 100, the distribution of repositories counld be observed by plotting majority of repositories with commit counts less than 100"
   ]
  },
  {
   "cell_type": "code",
   "execution_count": 23,
   "metadata": {},
   "outputs": [
    {
     "data": {
      "text/plain": [
       "<AxesSubplot:xlabel='bin_of_10s'>"
      ]
     },
     "execution_count": 23,
     "metadata": {},
     "output_type": "execute_result"
    },
    {
     "data": {
      "image/png": "[encoded data removed]",
      "text/plain": [
       "<Figure size 720x360 with 1 Axes>"
      ]
     },
     "metadata": {
      "needs_background": "light"
     },
     "output_type": "display_data"
    }
   ],
   "source": [
    "spark.sql('''\n",
    "SELECT CEIL(commit_count/10) bin_of_10s, sum(num_of_repos) num_of_repos\n",
    "FROM (\n",
    "    SELECT *\n",
    "    FROM commit_counts\n",
    "    WHERE commit_count < 100\n",
    "    )\n",
    "GROUP BY bin_of_10s\n",
    "ORDER BY bin_of_10s\n",
    "''').toPandas().plot(kind=\"bar\", x=\"bin_of_10s\", y=\"num_of_repos\", figsize=(10,5), color=\"blue\")"
   ]
  },
  {
   "cell_type": "markdown",
   "metadata": {},
   "source": [
    "**Comment:** In the original dataset, more than 80% of repositories had commit counts less than 10, and this statistics will be compared to the result after excluding inactive projects "
   ]
  },
  {
   "cell_type": "code",
   "execution_count": 24,
   "metadata": {},
   "outputs": [
    {
     "data": {
      "text/plain": [
       "<AxesSubplot:xlabel='commit_count'>"
      ]
     },
     "execution_count": 24,
     "metadata": {},
     "output_type": "execute_result"
    },
    {
     "data": {
      "image/png": "[encoded data removed]",
      "text/plain": [
       "<Figure size 720x360 with 1 Axes>"
      ]
     },
     "metadata": {
      "needs_background": "light"
     },
     "output_type": "display_data"
    }
   ],
   "source": [
    "spark.sql('''\n",
    "SELECT commit_count, num_of_repos\n",
    "FROM commit_counts\n",
    "WHERE commit_count <= 20\n",
    "''').toPandas().plot(kind=\"bar\", x=\"commit_count\", y=\"num_of_repos\", figsize=(10,5), color=\"blue\")"
   ]
  },
  {
   "cell_type": "code",
   "execution_count": 25,
   "metadata": {},
   "outputs": [
    {
     "name": "stdout",
     "output_type": "stream",
     "text": [
      "root\n",
      " |-- project_id: integer (nullable = true)\n",
      " |-- project_id: integer (nullable = true)\n",
      " |-- forked_from: integer (nullable = true)\n",
      " |-- project_language: string (nullable = true)\n",
      " |-- project_created_at: string (nullable = true)\n",
      " |-- last_commit_date: string (nullable = true)\n",
      " |-- commit_count: integer (nullable = true)\n",
      "\n",
      "number of active projects:  2166288\n"
     ]
    }
   ],
   "source": [
    "active_project_commitsDF.printSchema()\n",
    "print(\"number of active projects: \",active_project_commitsDF.count())"
   ]
  },
  {
   "cell_type": "markdown",
   "metadata": {},
   "source": [
    "Validation: number of active projects stays the same after joining with the project_commit table"
   ]
  },
  {
   "cell_type": "code",
   "execution_count": 26,
   "metadata": {},
   "outputs": [
    {
     "name": "stdout",
     "output_type": "stream",
     "text": [
      "+----------+----------+-----------+----------------+--------------------+--------------------+------------+\n",
      "|project_id|project_id|forked_from|project_language|  project_created_at|    last_commit_date|commit_count|\n",
      "+----------+----------+-----------+----------------+--------------------+--------------------+------------+\n",
      "|  27475310|  27475310|       null|           Shell|2015-05-12 22:32:...|2018-03-25 05:34:...|     3474516|\n",
      "|  55665958|  55665958|       null|            null|2017-01-25 16:26:...|2017-10-05 22:54:...|      612983|\n",
      "|  15833059|  15833059|       null|            null|2015-02-02 12:19:...|2018-03-31 23:56:...|      540570|\n",
      "|  24413203|  24413203|       null|            null|2015-08-20 20:02:...|2018-03-30 14:09:...|      463122|\n",
      "|  12115031|  12115031|       null|           Shell|2014-09-08 21:11:...|2017-09-04 11:59:...|      420142|\n",
      "+----------+----------+-----------+----------------+--------------------+--------------------+------------+\n",
      "only showing top 5 rows\n",
      "\n"
     ]
    }
   ],
   "source": [
    "active_project_commitsDF.orderBy('commit_count', ascending = False).show(5)"
   ]
  },
  {
   "cell_type": "code",
   "execution_count": 27,
   "metadata": {
    "tags": []
   },
   "outputs": [
    {
     "name": "stdout",
     "output_type": "stream",
     "text": [
      "+----------+----------+-----------+----------------+--------------------+--------------------+------------+\n",
      "|project_id|project_id|forked_from|project_language|  project_created_at|    last_commit_date|commit_count|\n",
      "+----------+----------+-----------+----------------+--------------------+--------------------+------------+\n",
      "|   2241543|   2241543|    1217706|            HTML|2013-01-13 15:59:...|2018-03-31 22:30:...|      409685|\n",
      "|   9723084|   9723084|    9706049|            null|2014-05-16 11:16:...|2018-03-31 02:07:...|      260239|\n",
      "|  18237398|  18237398|   11321166|               C|2015-04-01 11:26:...|2018-01-05 23:47:...|      137083|\n",
      "|       789|       789|       3981|            Java|2011-06-19 21:37:...|2018-03-31 23:25:...|      122862|\n",
      "|  21068858|  21068858|       1088|               C|2015-06-09 15:41:...|2018-02-05 16:43:...|      119707|\n",
      "+----------+----------+-----------+----------------+--------------------+--------------------+------------+\n",
      "only showing top 5 rows\n",
      "\n"
     ]
    }
   ],
   "source": [
    "spark.sql('''\n",
    "SELECT *\n",
    "FROM active_project_commits\n",
    "WHERE isnull(forked_from) = False\n",
    "ORDER BY commit_count desc\n",
    "''').show(5)"
   ]
  },
  {
   "cell_type": "markdown",
   "metadata": {},
   "source": [
    "**Comment:** commit_count field records the number of commit activities for a project. The commit records in the table `project_commits` corresponds to the commit made to a specific repository (either a base repository or a forked repository). Therefore, the number of commits in the table `active_project_commits` refers to the number of commit activities of a forked repo up to the fork point or the base repository"
   ]
  },
  {
   "cell_type": "code",
   "execution_count": 18,
   "metadata": {},
   "outputs": [],
   "source": [
    "active_commit_countsDF = spark.sql('''\n",
    "SELECT commit_count, count(1) AS num_of_repos\n",
    "FROM active_project_commits\n",
    "GROUP BY commit_count\n",
    "ORDER BY commit_count \n",
    "''')\n",
    "active_commit_countsDF.createOrReplaceTempView('active_commit_counts')"
   ]
  },
  {
   "cell_type": "code",
   "execution_count": 29,
   "metadata": {},
   "outputs": [
    {
     "data": {
      "text/plain": [
       "<AxesSubplot:xlabel='commit_count'>"
      ]
     },
     "execution_count": 29,
     "metadata": {},
     "output_type": "execute_result"
    },
    {
     "data": {
      "image/png": "[encoded data removed]",
      "text/plain": [
       "<Figure size 720x360 with 1 Axes>"
      ]
     },
     "metadata": {
      "needs_background": "light"
     },
     "output_type": "display_data"
    }
   ],
   "source": [
    "spark.sql('''\n",
    "SELECT commit_count, num_of_repos\n",
    "FROM active_commit_counts\n",
    "WHERE commit_count <= 20\n",
    "''').toPandas().plot(kind=\"bar\", x=\"commit_count\", y=\"num_of_repos\", figsize=(10,5), color=\"blue\")"
   ]
  },
  {
   "cell_type": "markdown",
   "metadata": {},
   "source": [
    "**Comment:** it is observed that for the active projects having commit recently with at least one PR, the percentage of projects with one commit decreases significantly compared to the original dataset. It could be because most of single-commit projects either became obsolete (i.e. no longer updated after the first commit) or never had request to participate (i.e. no pull requests). Thus, it is rational that most of active projects have 2 or 3 commit counts because the majority of repositories still have low commits and they need to have relatively more than one commit to receive at least one PR based on the query result."
   ]
  },
  {
   "cell_type": "markdown",
   "metadata": {},
   "source": [
    "As a result, the active repositories with only one commit can be excluded because of its minority and the repository needs to have more than one commit to have collaborators for co-commit analysis"
   ]
  },
  {
   "cell_type": "code",
   "execution_count": 19,
   "metadata": {},
   "outputs": [],
   "source": [
    "active_projectsDF = active_projectsDF.join(active_project_commitsDF.select('project_id','commit_count'),'project_id').filter('commit_count > 1').orderBy('commit_count')"
   ]
  },
  {
   "cell_type": "code",
   "execution_count": 65,
   "metadata": {},
   "outputs": [
    {
     "name": "stdout",
     "output_type": "stream",
     "text": [
      "+----------+--------------------+--------+--------------+--------------------+-----------+----------------+--------------------+--------------------+------------+\n",
      "|project_id|           repo_name|owner_id|   owner_login|                 url|forked_from|project_language|  project_created_at|    last_commit_date|commit_count|\n",
      "+----------+--------------------+--------+--------------+--------------------+-----------+----------------+--------------------+--------------------+------------+\n",
      "|  30047375|      uoke_framework| 8995306|       knowsee|https://api.githu...|       null|      JavaScript|2015-12-18 16:43:...|2017-09-14 07:43:...|           2|\n",
      "|  44504498|guiaturisticogaro...|30742353|      Rickarof|https://api.githu...|   44502690|            null|2016-08-29 19:29:...|2017-08-17 01:07:...|           2|\n",
      "|  31712652|           shironeko|   98897|         a2ikm|https://api.githu...|       null|            null|2016-02-02 18:27:...|2017-07-04 12:43:...|           2|\n",
      "|     82516|              phobos|   55503|jacob-carlborg|https://api.githu...|   35111568|               D|2012-03-14 07:35:...|2018-01-27 15:23:...|           2|\n",
      "|  40062935|logstash-input-s3...| 1977689|       GlideMe|https://api.githu...|   33188889|            Ruby|2016-06-27 13:59:...|2017-11-29 12:09:...|           2|\n",
      "+----------+--------------------+--------+--------------+--------------------+-----------+----------------+--------------------+--------------------+------------+\n",
      "only showing top 5 rows\n",
      "\n"
     ]
    }
   ],
   "source": [
    "active_projectsDF.show(5)"
   ]
  },
  {
   "cell_type": "code",
   "execution_count": 67,
   "metadata": {},
   "outputs": [
    {
     "name": "stdout",
     "output_type": "stream",
     "text": [
      "The number of active projects with more than 1 commit is  2160740\n"
     ]
    }
   ],
   "source": [
    "print('The number of active projects with more than 1 commit is ',active_projectsDF.count())"
   ]
  },
  {
   "cell_type": "code",
   "execution_count": 68,
   "metadata": {},
   "outputs": [
    {
     "data": {
      "text/plain": [
       "0.9974389370203777"
      ]
     },
     "execution_count": 68,
     "metadata": {},
     "output_type": "execute_result"
    }
   ],
   "source": [
    "2160740/2166288"
   ]
  },
  {
   "cell_type": "markdown",
   "metadata": {},
   "source": [
    "**Comment:** It is validated that 0.3% of the one-commit active repositories are excluded. The excluded minority of records will not affect the result of the co-commit analysis but improve the computational efficiency"
   ]
  },
  {
   "cell_type": "code",
   "execution_count": 30,
   "metadata": {},
   "outputs": [
    {
     "name": "stdout",
     "output_type": "stream",
     "text": [
      "+------------+------------+\n",
      "|commit_count|num_of_repos|\n",
      "+------------+------------+\n",
      "|     3474516|           1|\n",
      "|      612983|           1|\n",
      "|      540570|           1|\n",
      "|      463122|           1|\n",
      "|      420142|           1|\n",
      "+------------+------------+\n",
      "only showing top 5 rows\n",
      "\n"
     ]
    }
   ],
   "source": [
    "spark.sql('''\n",
    "SELECT commit_count, count(1) AS num_of_repos\n",
    "FROM active_commit_counts\n",
    "GROUP BY commit_count\n",
    "ORDER BY commit_count desc\n",
    "''').show(5)"
   ]
  },
  {
   "cell_type": "code",
   "execution_count": 31,
   "metadata": {},
   "outputs": [
    {
     "name": "stdout",
     "output_type": "stream",
     "text": [
      "+----------+----------------+-----------+---------------+-----------------------+------------+\n",
      "|project_id|repo_name       |forked_from|owner_login    |project_created_at     |commit_count|\n",
      "+----------+----------------+-----------+---------------+-----------------------+------------+\n",
      "|27475310  |blocklist-ipsets|null       |firehol        |2015-05-12 22:32:45 UTC|3474516     |\n",
      "|55665958  |OOS             |null       |abodiab        |2017-01-25 16:26:07 UTC|612983      |\n",
      "|15833059  |my-app          |null       |direwolf-github|2015-02-02 12:19:48 UTC|540570      |\n",
      "+----------+----------------+-----------+---------------+-----------------------+------------+\n",
      "only showing top 3 rows\n",
      "\n"
     ]
    }
   ],
   "source": [
    "spark.sql('''\n",
    "SELECT \n",
    "    ap.project_id, \n",
    "    ap.repo_name, \n",
    "    ap.forked_from, \n",
    "    ap.owner_login,\n",
    "    ap.project_created_at,\n",
    "    apc.commit_count\n",
    "FROM active_projects ap\n",
    "JOIN active_project_commits AS apc\n",
    "ON \n",
    "    ap.project_id = apc.project_id\n",
    "ORDER BY commit_count desc\n",
    "''').show(3,False)"
   ]
  },
  {
   "cell_type": "markdown",
   "metadata": {},
   "source": [
    "**Comments:** The commit_count of 3.47M is suspicious, and the exact repo with such high commit counts are manually inspected on the GitHub websites and the original query table. \n",
    "- The committer, ktsaou, commits 3.47M times to the base repository firehol/blocklist-ipsets, but the actual commit of the repository is only 1. This record is excluded for the scalable analysis"
   ]
  },
  {
   "cell_type": "code",
   "execution_count": 21,
   "metadata": {},
   "outputs": [],
   "source": [
    "active_projectsDF = active_projectsDF.filter('project_id != 27475310')"
   ]
  },
  {
   "cell_type": "code",
   "execution_count": 24,
   "metadata": {},
   "outputs": [],
   "source": [
    "# # save active_projectsDF to local parquet for future access\n",
    "# active_projectsDF.write.parquet(path=os.getcwd()+'/active_projectsDF.parquet')"
   ]
  },
  {
   "cell_type": "code",
   "execution_count": null,
   "metadata": {},
   "outputs": [],
   "source": [
    "# load active_projectsDF\n",
    "active_projectsDF = spark.read.parquet('active_projectsDF.parquet')"
   ]
  },
  {
   "cell_type": "code",
   "execution_count": null,
   "metadata": {},
   "outputs": [],
   "source": [
    "active_projectsDF.createOrReplaceTempView('active_projects')"
   ]
  },
  {
   "cell_type": "code",
   "execution_count": null,
   "metadata": {},
   "outputs": [],
   "source": [
    "active_projectsDF.show()"
   ]
  },
  {
   "cell_type": "markdown",
   "metadata": {},
   "source": [
    "#### 5.2.2 Exploratory Analysis on User Commit Data"
   ]
  },
  {
   "cell_type": "code",
   "execution_count": 36,
   "metadata": {},
   "outputs": [],
   "source": [
    "# Load real_committers.csv\n",
    "real_committersDF = spark.read.csv(os.getcwd()+\"/real_committers.csv\",\n",
    "                                   header=True,\n",
    "                                   inferSchema=True,\n",
    "                                   mode=\"DROPMALFORMED\")\n",
    "real_committersDF.createOrReplaceTempView('real_committers')"
   ]
  },
  {
   "cell_type": "code",
   "execution_count": 37,
   "metadata": {},
   "outputs": [
    {
     "name": "stdout",
     "output_type": "stream",
     "text": [
      "root\n",
      " |-- login: string (nullable = true)\n",
      " |-- user_id: integer (nullable = true)\n",
      " |-- user_type: string (nullable = true)\n",
      " |-- project_id: integer (nullable = true)\n",
      " |-- latest_commit: string (nullable = true)\n",
      " |-- oldest_commit: string (nullable = true)\n",
      " |-- commit_count: integer (nullable = true)\n",
      "\n"
     ]
    }
   ],
   "source": [
    "real_committersDF.printSchema()"
   ]
  },
  {
   "cell_type": "code",
   "execution_count": 35,
   "metadata": {},
   "outputs": [
    {
     "data": {
      "text/html": [
       "<div>\n",
       "<style scoped>\n",
       "    .dataframe tbody tr th:only-of-type {\n",
       "        vertical-align: middle;\n",
       "    }\n",
       "\n",
       "    .dataframe tbody tr th {\n",
       "        vertical-align: top;\n",
       "    }\n",
       "\n",
       "    .dataframe thead th {\n",
       "        text-align: right;\n",
       "    }\n",
       "</style>\n",
       "<table border=\"1\" class=\"dataframe\">\n",
       "  <thead>\n",
       "    <tr style=\"text-align: right;\">\n",
       "      <th></th>\n",
       "      <th>committer_login</th>\n",
       "      <th>committer_id</th>\n",
       "      <th>committer_type</th>\n",
       "      <th>project_id</th>\n",
       "      <th>repo_name</th>\n",
       "      <th>owner_id</th>\n",
       "      <th>owner_login</th>\n",
       "      <th>forked_from</th>\n",
       "      <th>commit_count</th>\n",
       "    </tr>\n",
       "  </thead>\n",
       "  <tbody>\n",
       "    <tr>\n",
       "      <th>0</th>\n",
       "      <td>abodiab</td>\n",
       "      <td>33673797</td>\n",
       "      <td>USR</td>\n",
       "      <td>55665958</td>\n",
       "      <td>OOS</td>\n",
       "      <td>33673797</td>\n",
       "      <td>abodiab</td>\n",
       "      <td>None</td>\n",
       "      <td>612979</td>\n",
       "    </tr>\n",
       "    <tr>\n",
       "      <th>1</th>\n",
       "      <td>direwolf-github</td>\n",
       "      <td>6869878</td>\n",
       "      <td>USR</td>\n",
       "      <td>15833059</td>\n",
       "      <td>my-app</td>\n",
       "      <td>6869878</td>\n",
       "      <td>direwolf-github</td>\n",
       "      <td>None</td>\n",
       "      <td>540568</td>\n",
       "    </tr>\n",
       "    <tr>\n",
       "      <th>2</th>\n",
       "      <td>argo-testing</td>\n",
       "      <td>33323413</td>\n",
       "      <td>USR</td>\n",
       "      <td>54422186</td>\n",
       "      <td>prod-autobuild-prober</td>\n",
       "      <td>33323413</td>\n",
       "      <td>argo-testing</td>\n",
       "      <td>None</td>\n",
       "      <td>276055</td>\n",
       "    </tr>\n",
       "    <tr>\n",
       "      <th>3</th>\n",
       "      <td>cmsbuild</td>\n",
       "      <td>1888390</td>\n",
       "      <td>USR</td>\n",
       "      <td>10130463</td>\n",
       "      <td>cms-sw.github.io</td>\n",
       "      <td>1760797</td>\n",
       "      <td>cms-sw</td>\n",
       "      <td>None</td>\n",
       "      <td>216991</td>\n",
       "    </tr>\n",
       "    <tr>\n",
       "      <th>4</th>\n",
       "      <td>brianchandotcom</td>\n",
       "      <td>5291</td>\n",
       "      <td>USR</td>\n",
       "      <td>3981</td>\n",
       "      <td>liferay-portal</td>\n",
       "      <td>9502</td>\n",
       "      <td>liferay</td>\n",
       "      <td>None</td>\n",
       "      <td>173328</td>\n",
       "    </tr>\n",
       "    <tr>\n",
       "      <th>5</th>\n",
       "      <td>sifex</td>\n",
       "      <td>1547459</td>\n",
       "      <td>USR</td>\n",
       "      <td>73827302</td>\n",
       "      <td>auto-commit</td>\n",
       "      <td>30585232</td>\n",
       "      <td>sudouc</td>\n",
       "      <td>None</td>\n",
       "      <td>158503</td>\n",
       "    </tr>\n",
       "    <tr>\n",
       "      <th>6</th>\n",
       "      <td>openstack-gerrit</td>\n",
       "      <td>11651</td>\n",
       "      <td>USR</td>\n",
       "      <td>6052240</td>\n",
       "      <td>openstack</td>\n",
       "      <td>23312</td>\n",
       "      <td>openstack</td>\n",
       "      <td>None</td>\n",
       "      <td>148737</td>\n",
       "    </tr>\n",
       "    <tr>\n",
       "      <th>7</th>\n",
       "      <td>tef</td>\n",
       "      <td>84482</td>\n",
       "      <td>USR</td>\n",
       "      <td>10992173</td>\n",
       "      <td>0.0</td>\n",
       "      <td>84482</td>\n",
       "      <td>tef</td>\n",
       "      <td>None</td>\n",
       "      <td>123270</td>\n",
       "    </tr>\n",
       "    <tr>\n",
       "      <th>8</th>\n",
       "      <td>julliard</td>\n",
       "      <td>157068</td>\n",
       "      <td>USR</td>\n",
       "      <td>11266639</td>\n",
       "      <td>wine</td>\n",
       "      <td>4826054</td>\n",
       "      <td>wine-mirror</td>\n",
       "      <td>None</td>\n",
       "      <td>113642</td>\n",
       "    </tr>\n",
       "    <tr>\n",
       "      <th>9</th>\n",
       "      <td>julliard</td>\n",
       "      <td>157068</td>\n",
       "      <td>USR</td>\n",
       "      <td>12525907</td>\n",
       "      <td>wine</td>\n",
       "      <td>2935683</td>\n",
       "      <td>alexhenrie</td>\n",
       "      <td>None</td>\n",
       "      <td>110268</td>\n",
       "    </tr>\n",
       "  </tbody>\n",
       "</table>\n",
       "</div>"
      ],
      "text/plain": [
       "    committer_login  committer_id committer_type  project_id  \\\n",
       "0           abodiab      33673797            USR    55665958   \n",
       "1   direwolf-github       6869878            USR    15833059   \n",
       "2      argo-testing      33323413            USR    54422186   \n",
       "3          cmsbuild       1888390            USR    10130463   \n",
       "4   brianchandotcom          5291            USR        3981   \n",
       "5             sifex       1547459            USR    73827302   \n",
       "6  openstack-gerrit         11651            USR     6052240   \n",
       "7               tef         84482            USR    10992173   \n",
       "8          julliard        157068            USR    11266639   \n",
       "9          julliard        157068            USR    12525907   \n",
       "\n",
       "               repo_name  owner_id      owner_login forked_from  commit_count  \n",
       "0                    OOS  33673797          abodiab        None        612979  \n",
       "1                 my-app   6869878  direwolf-github        None        540568  \n",
       "2  prod-autobuild-prober  33323413     argo-testing        None        276055  \n",
       "3       cms-sw.github.io   1760797           cms-sw        None        216991  \n",
       "4         liferay-portal      9502          liferay        None        173328  \n",
       "5            auto-commit  30585232           sudouc        None        158503  \n",
       "6              openstack     23312        openstack        None        148737  \n",
       "7                    0.0     84482              tef        None        123270  \n",
       "8                   wine   4826054      wine-mirror        None        113642  \n",
       "9                   wine   2935683       alexhenrie        None        110268  "
      ]
     },
     "execution_count": 35,
     "metadata": {},
     "output_type": "execute_result"
    }
   ],
   "source": [
    "# committersDF = spark.sql('''\n",
    "# SELECT \n",
    "#     rc.login committer_login,\n",
    "#     rc.user_id committer_id,\n",
    "#     rc.user_type committer_type,\n",
    "#     rc.project_id project_id,\n",
    "#     ap.repo_name repo_name,\n",
    "#     ap.owner_id owner_id,\n",
    "#     ap.owner_login owner_login,\n",
    "#     ap.forked_from forked_from,\n",
    "#     rc.commit_count commit_count\n",
    "# FROM real_committers rc, active_projects ap\n",
    "# WHERE ap.project_id = rc.project_id\n",
    "# ORDER BY commit_count desc\n",
    "# ''')\n",
    "# committersDF.limit(10).toPandas()"
   ]
  },
  {
   "cell_type": "code",
   "execution_count": 38,
   "metadata": {},
   "outputs": [],
   "source": [
    "# load the committersDF from saved parquet file to save time\n",
    "committersDF = spark.read.parquet('committersDF.parquet')"
   ]
  },
  {
   "cell_type": "code",
   "execution_count": 39,
   "metadata": {},
   "outputs": [
    {
     "name": "stdout",
     "output_type": "stream",
     "text": [
      "number of all committer-repository records:  8112579\n",
      "number of all committer-project records:  6074235\n"
     ]
    }
   ],
   "source": [
    "print('number of all committer-repository records: ',committersDF.count())\n",
    "print('number of all committer-project records: ',committersDF.filter('isnull(forked_from) == True').count())"
   ]
  },
  {
   "cell_type": "markdown",
   "metadata": {},
   "source": [
    "Filter out committers who commit less than once that could eliminate most of inactive or not primary committers to the active projects"
   ]
  },
  {
   "cell_type": "code",
   "execution_count": 40,
   "metadata": {},
   "outputs": [
    {
     "name": "stdout",
     "output_type": "stream",
     "text": [
      "+---------------+------------+--------------+----------+-------------+--------+-----------+-----------+------------+\n",
      "|committer_login|committer_id|committer_type|project_id|    repo_name|owner_id|owner_login|forked_from|commit_count|\n",
      "+---------------+------------+--------------+----------+-------------+--------+-----------+-----------+------------+\n",
      "|       web-flow|    30351173|           USR|       471|AugustPenguin|    3969|      tomer|        486|           2|\n",
      "|       web-flow|    30351173|           USR|  55887230|         Java|11456985|   61baydin|       null|           2|\n",
      "|      adamvduke|       25571|           USR|       496|        hubot|     142|     github|       null|           2|\n",
      "|     Kurfursten|     6108343|           USR|  55911363|  vgstation13| 3625544|    DamianX|    3931825|           2|\n",
      "|  cameronmcefee|       51969|           USR|       496|        hubot|     142|     github|       null|           2|\n",
      "+---------------+------------+--------------+----------+-------------+--------+-----------+-----------+------------+\n",
      "only showing top 5 rows\n",
      "\n"
     ]
    }
   ],
   "source": [
    "committersDF = committersDF.filter('commit_count > 1')\n",
    "committersDF.show(5)"
   ]
  },
  {
   "cell_type": "markdown",
   "metadata": {},
   "source": [
    "result after filtering out one-commit committers"
   ]
  },
  {
   "cell_type": "code",
   "execution_count": 41,
   "metadata": {},
   "outputs": [
    {
     "name": "stdout",
     "output_type": "stream",
     "text": [
      "number of all committer-repository records:  5856395\n",
      "number of all committer-project records:  4488715\n"
     ]
    }
   ],
   "source": [
    "print('number of all committer-repository records: ',committersDF.count())\n",
    "print('number of all committer-project records: ',committersDF.filter('isnull(forked_from) == True').count())"
   ]
  },
  {
   "cell_type": "markdown",
   "metadata": {},
   "source": [
    "**Comment:**\n",
    "we found that the decreased number of committers who commit to the base project is much smaller in ratio than that of the committers who commit to the forked projects. Thus, committers who work on the base project tends to commit multiple times"
   ]
  },
  {
   "cell_type": "code",
   "execution_count": 42,
   "metadata": {},
   "outputs": [],
   "source": [
    "committersDF.createOrReplaceTempView('committers')\n",
    "base_committersDF = committersDF.filter('isnull(forked_from) == True')\n",
    "base_committersDF.createOrReplaceTempView('base_committers')"
   ]
  },
  {
   "cell_type": "code",
   "execution_count": 43,
   "metadata": {},
   "outputs": [],
   "source": [
    "# # save committersDF to Parquet for easier retrival and continuous work on the project\n",
    "# committersDF.write.parquet(path=os.getcwd()+'\\committersDF.parquet')"
   ]
  },
  {
   "cell_type": "markdown",
   "metadata": {},
   "source": [
    "**Comment:** the result above shows the active repositories with the most commit counts, and it is consistent with the commit count results from the exploratory analysis on `active_projects`. Also, to construct the co-commit network, we will focus on commit counts on the project level (including both base repository and all its forks)"
   ]
  },
  {
   "cell_type": "code",
   "execution_count": 44,
   "metadata": {},
   "outputs": [],
   "source": [
    "active_project_committersDF = spark.sql('''\n",
    "SELECT\n",
    "    project_id,\n",
    "    count(1) num_of_committers\n",
    "FROM committers\n",
    "GROUP BY project_id\n",
    "ORDER BY num_of_committers desc\n",
    "''')"
   ]
  },
  {
   "cell_type": "code",
   "execution_count": 77,
   "metadata": {},
   "outputs": [
    {
     "data": {
      "text/plain": [
       "2088544"
      ]
     },
     "execution_count": 77,
     "metadata": {},
     "output_type": "execute_result"
    }
   ],
   "source": [
    "active_project_committersDF.count()"
   ]
  },
  {
   "cell_type": "markdown",
   "metadata": {},
   "source": [
    "**Comment:** Compared to the total number of active projects from table `project_commit`, there were 6,705 less active projects from the table `commit` that had the committer and commit information. It is because one commit could be share by multiple projects. In the table `commit`, the project field corresponds to the one that the commit has been first associated with. This might not be the project this commit was initially pushed to, e.g. in case the fork is processed before the parent, so the table \"project_commit\" has more accurate correspondance between commits and projects. Also, such 0.3% data loss is considered not significant for the following analyses in this research project"
   ]
  },
  {
   "cell_type": "markdown",
   "metadata": {},
   "source": [
    "#### 5.2.3 Exploratory Analysis on Star Counts per Repository"
   ]
  },
  {
   "cell_type": "code",
   "execution_count": 755,
   "metadata": {},
   "outputs": [],
   "source": [
    "# ingest project_stars as spark dataframe\n",
    "# Load project_stars.csv\n",
    "project_starsDF = spark.read.csv(os.getcwd()+\"/project_stars.csv\",\n",
    "                                   header=True,\n",
    "                                   inferSchema=True,\n",
    "                                   mode=\"DROPMALFORMED\")\n",
    "project_starsDF.createOrReplaceTempView(\"project_stars\")"
   ]
  },
  {
   "cell_type": "code",
   "execution_count": 756,
   "metadata": {},
   "outputs": [
    {
     "name": "stdout",
     "output_type": "stream",
     "text": [
      "root\n",
      " |-- project_id: integer (nullable = true)\n",
      " |-- star_count: integer (nullable = true)\n",
      " |-- latest_star_date: string (nullable = true)\n",
      " |-- oldest_star_date: string (nullable = true)\n",
      "\n"
     ]
    }
   ],
   "source": [
    "project_starsDF.printSchema()"
   ]
  },
  {
   "cell_type": "markdown",
   "metadata": {},
   "source": [
    "##### Exclude inactive projects to prepare star counts for GH-Impact calculation "
   ]
  },
  {
   "cell_type": "code",
   "execution_count": 757,
   "metadata": {},
   "outputs": [],
   "source": [
    "active_project_starsDF = spark.sql('''\n",
    "SELECT ps.project_id, star_count, latest_star_date, oldest_star_date\n",
    "FROM project_stars ps, active_projects ap\n",
    "WHERE ps.project_id = ap.project_id\n",
    "''') \n",
    "active_project_starsDF.createOrReplaceTempView('active_project_stars')"
   ]
  },
  {
   "cell_type": "code",
   "execution_count": 758,
   "metadata": {},
   "outputs": [
    {
     "name": "stdout",
     "output_type": "stream",
     "text": [
      "+----------+----------+---------+\n",
      "|project_id|star_count|week_diff|\n",
      "+----------+----------+---------+\n",
      "|  14477484|    218166|    170.0|\n",
      "|  28557277|     97842|    125.0|\n",
      "|   3905191|     87948|    252.0|\n",
      "|  27601818|     84975|    128.0|\n",
      "|  10778840|     83204|    194.0|\n",
      "|   6445576|     76734|    228.0|\n",
      "|   4708601|     74394|    348.0|\n",
      "|      3231|     72362|    448.0|\n",
      "|   5659677|     71884|    190.0|\n",
      "|   1155356|     69331|    282.0|\n",
      "+----------+----------+---------+\n",
      "only showing top 10 rows\n",
      "\n"
     ]
    }
   ],
   "source": [
    "project_timespan_starsDF = spark.sql('''\n",
    "SELECT \n",
    "    project_id,\n",
    "    star_count,\n",
    "    ROUND(DATEDIFF(latest_star_date,oldest_star_date)/7) week_diff\n",
    "FROM\n",
    "    active_project_stars\n",
    "ORDER BY star_count desc\n",
    "''')\n",
    "project_timespan_starsDF.createOrReplaceTempView('project_timespan_stars')\n",
    "project_timespan_starsDF.show(10)"
   ]
  },
  {
   "cell_type": "markdown",
   "metadata": {},
   "source": [
    "## 6. Scalable Analysis"
   ]
  },
  {
   "cell_type": "markdown",
   "metadata": {},
   "source": [
    "### 6.1 Demographic Analysis"
   ]
  },
  {
   "cell_type": "markdown",
   "metadata": {},
   "source": [
    "#### Distribution of active repositories with respect to programming languages"
   ]
  },
  {
   "cell_type": "markdown",
   "metadata": {},
   "source": [
    "In order to analyze the distribution of lanugages, we analyze both the number of base projects to marginalize out the influence of number of forks "
   ]
  },
  {
   "cell_type": "code",
   "execution_count": 45,
   "metadata": {},
   "outputs": [],
   "source": [
    "languageDF = spark.sql('''\n",
    "SELECT\n",
    "    project_language,\n",
    "    count(1) AS num_of_repos,\n",
    "    sum(commit_count) AS num_of_commits\n",
    "FROM (\n",
    "    SELECT ap.project_language, ap.project_id, ap.forked_from, apc.commit_count\n",
    "    FROM active_projects ap, active_project_commits apc\n",
    "    WHERE ap.project_id = apc.project_id\n",
    "        AND isnull(ap.forked_from) = True\n",
    ")\n",
    "WHERE project_language != 'null'\n",
    "GROUP BY project_language\n",
    "ORDER BY num_of_repos desc \n",
    "''')\n",
    "languageDF.createOrReplaceTempView('language')"
   ]
  },
  {
   "cell_type": "code",
   "execution_count": 78,
   "metadata": {},
   "outputs": [
    {
     "name": "stdout",
     "output_type": "stream",
     "text": [
      "+----------------+------------+--------------+\n",
      "|project_language|num_of_repos|num_of_commits|\n",
      "+----------------+------------+--------------+\n",
      "|      JavaScript|      107195|      20239244|\n",
      "|          Python|       60017|      16770454|\n",
      "|            Java|       46853|      15166057|\n",
      "|            HTML|       42740|       8413557|\n",
      "|             PHP|       37948|       9910960|\n",
      "|            Ruby|       27587|      10153734|\n",
      "|             CSS|       22782|       3937396|\n",
      "|             C++|       20613|      11320350|\n",
      "|           Shell|       17778|       4614389|\n",
      "|              C#|       17323|       3782401|\n",
      "|               C|       15219|      14043634|\n",
      "|              Go|       12886|       2794597|\n",
      "|      TypeScript|        7555|       1269022|\n",
      "|           Swift|        6425|        780155|\n",
      "|     Objective-C|        5050|       1049784|\n",
      "|               R|        4426|        847971|\n",
      "|           Scala|        3928|       1393733|\n",
      "|            Perl|        3786|       1389077|\n",
      "|            Rust|        3205|        806290|\n",
      "|Jupyter Notebook|        3102|        449893|\n",
      "+----------------+------------+--------------+\n",
      "only showing top 20 rows\n",
      "\n"
     ]
    }
   ],
   "source": [
    "languageDF.show(20)"
   ]
  },
  {
   "cell_type": "markdown",
   "metadata": {},
   "source": [
    "Remove null records and analyze the distribution of top 20 languages"
   ]
  },
  {
   "cell_type": "code",
   "execution_count": 46,
   "metadata": {},
   "outputs": [],
   "source": [
    "top_languageDF = spark.sql('''\n",
    "SELECT\n",
    "    project_language, num_of_repos, num_of_commits\n",
    "FROM language \n",
    "WHERE num_of_repos >= 3102\n",
    "UNION \n",
    "SELECT \n",
    "    STRING('other') AS project_language,\n",
    "    sum(num_of_repos) as num_of_repos,\n",
    "    sum(num_of_commits) as num_of_commits\n",
    "FROM (\n",
    "    SELECT *\n",
    "    FROM language\n",
    "    WHERE num_of_repos < 3102\n",
    "    )\n",
    "ORDER BY num_of_repos desc\n",
    "''')\n",
    "top_languageDF.createOrReplaceTempView('top_language')"
   ]
  },
  {
   "cell_type": "code",
   "execution_count": 86,
   "metadata": {},
   "outputs": [
    {
     "name": "stdout",
     "output_type": "stream",
     "text": [
      "+----------------+------------+--------------+\n",
      "|project_language|num_of_repos|num_of_commits|\n",
      "+----------------+------------+--------------+\n",
      "|JavaScript      |107195      |20239244      |\n",
      "|Python          |60017       |16770454      |\n",
      "|other           |48111       |12451559      |\n",
      "|Java            |46853       |15166057      |\n",
      "|HTML            |42740       |8413557       |\n",
      "|PHP             |37948       |9910960       |\n",
      "|Ruby            |27587       |10153734      |\n",
      "|CSS             |22782       |3937396       |\n",
      "|C++             |20613       |11320350      |\n",
      "|Shell           |17778       |4614389       |\n",
      "|C#              |17323       |3782401       |\n",
      "|C               |15219       |14043634      |\n",
      "|Go              |12886       |2794597       |\n",
      "|TypeScript      |7555        |1269022       |\n",
      "|Swift           |6425        |780155        |\n",
      "|Objective-C     |5050        |1049784       |\n",
      "|R               |4426        |847971        |\n",
      "|Scala           |3928        |1393733       |\n",
      "|Perl            |3786        |1389077       |\n",
      "|Rust            |3205        |806290        |\n",
      "|Jupyter Notebook|3102        |449893        |\n",
      "+----------------+------------+--------------+\n",
      "\n"
     ]
    }
   ],
   "source": [
    "top_languageDF.show(30,False)"
   ]
  },
  {
   "cell_type": "code",
   "execution_count": 87,
   "metadata": {},
   "outputs": [],
   "source": [
    "language_ratioDF = spark.sql('''\n",
    "SELECT \n",
    "    project_language,\n",
    "    ROUND(num_of_repos/(sum(num_of_repos) over())*100,3) repo_ratio,\n",
    "    ROUND(num_of_commits/(sum(num_of_commits) over())*100,3) commit_ratio\n",
    "FROM top_language\n",
    "''')"
   ]
  },
  {
   "cell_type": "code",
   "execution_count": 88,
   "metadata": {},
   "outputs": [
    {
     "name": "stdout",
     "output_type": "stream",
     "text": [
      "+----------------+----------+------------+\n",
      "|project_language|repo_ratio|commit_ratio|\n",
      "+----------------+----------+------------+\n",
      "|      JavaScript|    20.834|      14.295|\n",
      "|          Python|    11.664|      11.845|\n",
      "|           other|      9.35|       8.794|\n",
      "|            Java|     9.106|      10.712|\n",
      "|            HTML|     8.307|       5.942|\n",
      "|             PHP|     7.375|         7.0|\n",
      "|            Ruby|     5.362|       7.172|\n",
      "|             CSS|     4.428|       2.781|\n",
      "|             C++|     4.006|       7.995|\n",
      "|           Shell|     3.455|       3.259|\n",
      "|              C#|     3.367|       2.671|\n",
      "|               C|     2.958|       9.919|\n",
      "|              Go|     2.504|       1.974|\n",
      "|      TypeScript|     1.468|       0.896|\n",
      "|           Swift|     1.249|       0.551|\n",
      "|     Objective-C|     0.981|       0.741|\n",
      "|               R|      0.86|       0.599|\n",
      "|           Scala|     0.763|       0.984|\n",
      "|            Perl|     0.736|       0.981|\n",
      "|            Rust|     0.623|       0.569|\n",
      "|Jupyter Notebook|     0.603|       0.318|\n",
      "+----------------+----------+------------+\n",
      "\n"
     ]
    }
   ],
   "source": [
    "language_ratioDF.show(30,True)"
   ]
  },
  {
   "cell_type": "code",
   "execution_count": 89,
   "metadata": {},
   "outputs": [
    {
     "data": {
      "text/plain": [
       "<AxesSubplot:xlabel='project_language'>"
      ]
     },
     "execution_count": 89,
     "metadata": {},
     "output_type": "execute_result"
    },
    {
     "data": {
      "image/png": "[encoded data removed]",
      "text/plain": [
       "<Figure size 720x360 with 1 Axes>"
      ]
     },
     "metadata": {
      "needs_background": "light"
     },
     "output_type": "display_data"
    }
   ],
   "source": [
    "language_ratioDF.toPandas().plot(kind=\"bar\", x=\"project_language\", y=\"repo_ratio\", figsize=(10,5), color=\"blue\")"
   ]
  },
  {
   "cell_type": "markdown",
   "metadata": {},
   "source": [
    "**Comment:** The 4 most popular languages in terms of number of related base projects are JavaScript (20.8%), Python (11.7%), Java (9.1%), and HTML (8.4%). We can observe that high level languages now are more popularly used in GitHub projects"
   ]
  },
  {
   "cell_type": "code",
   "execution_count": 90,
   "metadata": {},
   "outputs": [
    {
     "data": {
      "text/plain": [
       "<AxesSubplot:xlabel='project_language'>"
      ]
     },
     "execution_count": 90,
     "metadata": {},
     "output_type": "execute_result"
    },
    {
     "data": {
      "image/png": "[encoded data removed]",
      "text/plain": [
       "<Figure size 720x360 with 1 Axes>"
      ]
     },
     "metadata": {
      "needs_background": "light"
     },
     "output_type": "display_data"
    }
   ],
   "source": [
    "language_ratioDF.toPandas().plot(kind=\"bar\", x=\"project_language\", y=\"commit_ratio\", figsize=(10,5), color=\"blue\")"
   ]
  },
  {
   "cell_type": "markdown",
   "metadata": {},
   "source": [
    "#### Distribution of developers  with respect to programming languages"
   ]
  },
  {
   "cell_type": "markdown",
   "metadata": {},
   "source": [
    "The programming language tag of a developer is determined by the language of the majority number of repositories which he or she wrote it with. If a developer owns same number of projects in the top 20 languages, his or her tag will be given by the project that has the most commits.\n",
    "\n",
    "Here we only consider the top 20 programming languages analyzed in the section above:\n",
    "- ['JavaScript',\n",
    " 'Python',\n",
    " 'Java',\n",
    " 'HTML',\n",
    " 'PHP',\n",
    " 'Ruby',\n",
    " 'CSS',\n",
    " 'C++',\n",
    " 'Shell',\n",
    " 'C#',\n",
    " 'C',\n",
    " 'Go',\n",
    " 'TypeScript',\n",
    " 'Swift',\n",
    " 'Objective-C',\n",
    " 'R',\n",
    " 'Scala',\n",
    " 'Perl',\n",
    " 'Rust',\n",
    " 'Jupyter Notebook']"
   ]
  },
  {
   "cell_type": "code",
   "execution_count": 91,
   "metadata": {},
   "outputs": [
    {
     "data": {
      "text/plain": [
       "['JavaScript',\n",
       " 'Python',\n",
       " 'other',\n",
       " 'Java',\n",
       " 'HTML',\n",
       " 'PHP',\n",
       " 'Ruby',\n",
       " 'CSS',\n",
       " 'C++',\n",
       " 'Shell',\n",
       " 'C#',\n",
       " 'C',\n",
       " 'Go',\n",
       " 'TypeScript',\n",
       " 'Swift',\n",
       " 'Objective-C',\n",
       " 'R',\n",
       " 'Scala',\n",
       " 'Perl',\n",
       " 'Rust',\n",
       " 'Jupyter Notebook']"
      ]
     },
     "execution_count": 91,
     "metadata": {},
     "output_type": "execute_result"
    }
   ],
   "source": [
    "spark.sql('''\n",
    "SELECT project_language\n",
    "FROM top_language\n",
    "''').rdd.map(lambda x: x.project_language).collect()"
   ]
  },
  {
   "cell_type": "code",
   "execution_count": 47,
   "metadata": {},
   "outputs": [],
   "source": [
    "user_languageDF = spark.sql('''\n",
    "SELECT *\n",
    "FROM (\n",
    "    SELECT \n",
    "        owner_login, \n",
    "        project_language, \n",
    "        num_of_repos,\n",
    "        commit_count,\n",
    "        DENSE_RANK(commit_count) over(partition by owner_login order by commit_count desc) rank\n",
    "    FROM (\n",
    "        SELECT\n",
    "            project_language,\n",
    "            owner_login,\n",
    "            count(1) AS num_of_repos,\n",
    "            sum(commit_count) commit_count\n",
    "        FROM active_projects\n",
    "        WHERE project_language IN ('JavaScript', 'Python', 'Java', 'HTML', 'PHP', 'Ruby', 'CSS', 'C++', 'Shell', 'C#', 'C', 'Go', 'TypeScript', 'Swift', 'Objective-C', 'R', 'Scala', 'Perl', 'Rust', 'Jupyter Notebook')\n",
    "        GROUP BY owner_login, project_language\n",
    "        )\n",
    ")\n",
    "WHERE rank = 1\n",
    "ORDER BY owner_login desc\n",
    "''')"
   ]
  },
  {
   "cell_type": "code",
   "execution_count": 48,
   "metadata": {},
   "outputs": [
    {
     "name": "stdout",
     "output_type": "stream",
     "text": [
      "+-----------+----------------+------------+------------+----+\n",
      "|owner_login|project_language|num_of_repos|commit_count|rank|\n",
      "+-----------+----------------+------------+------------+----+\n",
      "|    zzzzzzf|            Java|           1|          27|   1|\n",
      "|zzzzzhuahua|      JavaScript|           1|           3|   1|\n",
      "|    zzzuzik|          Python|           1|          28|   1|\n",
      "|   zzzsochi|          Python|           6|         838|   1|\n",
      "|zzzprojects|              C#|          10|        1421|   1|\n",
      "|   zzzlight|          Python|           1|           3|   1|\n",
      "|  zzzhacker|            HTML|           3|           8|   1|\n",
      "|     zzzeek|          Python|           3|        7002|   1|\n",
      "|      zzzbl|      JavaScript|           1|          63|   1|\n",
      "|  zzzanderw|            Java|           1|          24|   1|\n",
      "+-----------+----------------+------------+------------+----+\n",
      "only showing top 10 rows\n",
      "\n"
     ]
    }
   ],
   "source": [
    "user_languageDF.show(10)"
   ]
  },
  {
   "cell_type": "code",
   "execution_count": 49,
   "metadata": {},
   "outputs": [],
   "source": [
    "user_languageDF.createOrReplaceTempView('user_language')"
   ]
  },
  {
   "cell_type": "code",
   "execution_count": 50,
   "metadata": {},
   "outputs": [
    {
     "name": "stdout",
     "output_type": "stream",
     "text": [
      "+----------------+-----------------+\n",
      "|project_language|num_of_developers|\n",
      "+----------------+-----------------+\n",
      "|JavaScript      |83186            |\n",
      "|Python          |51415            |\n",
      "|Java            |45488            |\n",
      "|HTML            |37736            |\n",
      "|PHP             |29031            |\n",
      "|C++             |21654            |\n",
      "|CSS             |20129            |\n",
      "|Ruby            |19930            |\n",
      "|C#              |16238            |\n",
      "|C               |14885            |\n",
      "|Shell           |12887            |\n",
      "|Go              |9380             |\n",
      "|TypeScript      |6526             |\n",
      "|Swift           |5030             |\n",
      "|Objective-C     |4247             |\n",
      "|Jupyter Notebook|3629             |\n",
      "|R               |3383             |\n",
      "|Scala           |2647             |\n",
      "|Perl            |2106             |\n",
      "|Rust            |1859             |\n",
      "+----------------+-----------------+\n",
      "\n"
     ]
    }
   ],
   "source": [
    "user_language_countsDF = spark.sql('''\n",
    "SELECT \n",
    "    project_language,\n",
    "    count(owner_login) num_of_developers\n",
    "FROM user_language\n",
    "GROUP BY project_language\n",
    "ORDER BY num_of_developers desc\n",
    "''')\n",
    "user_language_countsDF.show(30,False)"
   ]
  },
  {
   "cell_type": "code",
   "execution_count": 51,
   "metadata": {},
   "outputs": [
    {
     "data": {
      "text/plain": [
       "<AxesSubplot:xlabel='project_language'>"
      ]
     },
     "execution_count": 51,
     "metadata": {},
     "output_type": "execute_result"
    },
    {
     "data": {
      "image/png": "[encoded data removed]",
      "text/plain": [
       "<Figure size 720x360 with 1 Axes>"
      ]
     },
     "metadata": {
      "needs_background": "light"
     },
     "output_type": "display_data"
    }
   ],
   "source": [
    "user_language_countsDF.toPandas().plot(kind = 'bar', x = 'project_language', y = 'num_of_developers',figsize=(10,5), color=\"blue\")"
   ]
  },
  {
   "cell_type": "code",
   "execution_count": 52,
   "metadata": {},
   "outputs": [],
   "source": [
    "user_language_countsDF.createOrReplaceTempView('user_language_counts')"
   ]
  },
  {
   "cell_type": "code",
   "execution_count": 53,
   "metadata": {},
   "outputs": [
    {
     "name": "stdout",
     "output_type": "stream",
     "text": [
      "+----------------------+\n",
      "|sum(num_of_developers)|\n",
      "+----------------------+\n",
      "|                391386|\n",
      "+----------------------+\n",
      "\n"
     ]
    }
   ],
   "source": [
    "spark.sql('''\n",
    "SELECT sum(num_of_developers)\n",
    "FROM user_language_counts\n",
    "''').show()"
   ]
  },
  {
   "cell_type": "code",
   "execution_count": 54,
   "metadata": {},
   "outputs": [
    {
     "name": "stdout",
     "output_type": "stream",
     "text": [
      "+----------------+-----------------+-------------------+\n",
      "|project_language|num_of_developers|              ratio|\n",
      "+----------------+-----------------+-------------------+\n",
      "|      JavaScript|            83186| 21.254209399416432|\n",
      "|          Python|            51415| 13.136647708400403|\n",
      "|            Java|            45488| 11.622285927447585|\n",
      "|            HTML|            37736|  9.641632557117525|\n",
      "|             PHP|            29031|  7.417485551348285|\n",
      "|             C++|            21654|  5.532645521301221|\n",
      "|             CSS|            20129|  5.143004604150379|\n",
      "|            Ruby|            19930| 5.0921596582402024|\n",
      "|              C#|            16238|  4.148845385374029|\n",
      "|               C|            14885|  3.803150853632986|\n",
      "|           Shell|            12887|  3.292657376605193|\n",
      "|              Go|             9380|   2.39661101827863|\n",
      "|      TypeScript|             6526| 1.6674076231648551|\n",
      "|           Swift|             5030| 1.2851762709958965|\n",
      "|     Objective-C|             4247| 1.0851180164850045|\n",
      "|Jupyter Notebook|             3629|   0.92721763169863|\n",
      "|               R|             3383| 0.8643640804729856|\n",
      "|           Scala|             2647| 0.6763144312775623|\n",
      "|            Perl|             2106| 0.5380877190292959|\n",
      "|            Rust|             1859|0.47497866556289703|\n",
      "+----------------+-----------------+-------------------+\n",
      "\n"
     ]
    }
   ],
   "source": [
    "user_language_countsDF.withColumn('ratio',col('num_of_developers')/391386*100).show()"
   ]
  },
  {
   "cell_type": "markdown",
   "metadata": {},
   "source": [
    "**Comment**: The top 5 programming languages are JavaScript (21.25%), Python (13.14%), Java (11.62%), HTML (9.64%), and PHP (7.41%) of the entire population. Also, the JavaScript has the most number of developers that is the twice of the second most popular language Python."
   ]
  },
  {
   "cell_type": "markdown",
   "metadata": {},
   "source": [
    "### 6.2 Co-commit Network Analysis"
   ]
  },
  {
   "cell_type": "markdown",
   "metadata": {},
   "source": [
    "#### 6.2.1 Pagerank from fork information"
   ]
  },
  {
   "cell_type": "code",
   "execution_count": 55,
   "metadata": {},
   "outputs": [
    {
     "name": "stdout",
     "output_type": "stream",
     "text": [
      "root\n",
      " |-- project_id: integer (nullable = true)\n",
      " |-- repo_name: string (nullable = true)\n",
      " |-- owner_id: integer (nullable = true)\n",
      " |-- owner_login: string (nullable = true)\n",
      " |-- url: string (nullable = true)\n",
      " |-- forked_from: integer (nullable = true)\n",
      " |-- project_language: string (nullable = true)\n",
      " |-- project_created_at: string (nullable = true)\n",
      " |-- last_commit_date: string (nullable = true)\n",
      " |-- commit_count: integer (nullable = true)\n",
      "\n"
     ]
    }
   ],
   "source": [
    "active_projectsDF.printSchema()"
   ]
  },
  {
   "cell_type": "code",
   "execution_count": 56,
   "metadata": {},
   "outputs": [],
   "source": [
    "active_projectsDF = active_projectsDF.filter(\"project_language IN ('JavaScript', 'Python', 'Java', 'HTML', 'PHP', 'Ruby', 'CSS', 'C++', 'Shell', 'C#', 'C', 'Go', 'TypeScript', 'Swift', 'Objective-C', 'R', 'Scala', 'Perl', 'Rust', 'Jupyter Notebook')\")"
   ]
  },
  {
   "cell_type": "code",
   "execution_count": 103,
   "metadata": {},
   "outputs": [
    {
     "data": {
      "text/plain": [
       "686177"
      ]
     },
     "execution_count": 103,
     "metadata": {},
     "output_type": "execute_result"
    }
   ],
   "source": [
    "active_projectsDF.select('project_id').distinct().count()"
   ]
  },
  {
   "cell_type": "code",
   "execution_count": 104,
   "metadata": {},
   "outputs": [],
   "source": [
    "vertices_fork =  active_projectsDF.withColumnRenamed('project_id', 'id').distinct()"
   ]
  },
  {
   "cell_type": "code",
   "execution_count": 105,
   "metadata": {},
   "outputs": [],
   "source": [
    "edges_fork =  active_projectsDF.filter('isnull(forked_from) == False').withColumnRenamed(\"forked_from\", \"src\").withColumnRenamed(\"project_id\", \"dst\")"
   ]
  },
  {
   "cell_type": "code",
   "execution_count": 106,
   "metadata": {},
   "outputs": [
    {
     "name": "stdout",
     "output_type": "stream",
     "text": [
      "+--------+--------------------+--------+----------------+--------------------+--------+----------------+--------------------+--------------------+------------+\n",
      "|     dst|           repo_name|owner_id|     owner_login|                 url|     src|project_language|  project_created_at|    last_commit_date|commit_count|\n",
      "+--------+--------------------+--------+----------------+--------------------+--------+----------------+--------------------+--------------------+------------+\n",
      "|68991171|    packer-xenserver|  569847|      edwintorok|https://api.githu...|16370003|           Shell|2017-07-07 10:26:...|2017-07-07 10:52:...|           2|\n",
      "|82368918|      pytest-plugins| 2219004|           j0057|https://api.githu...|24190682|          Python|2017-12-06 08:16:...|2017-12-06 08:28:...|           2|\n",
      "|69003081|          tcollector|  201171|       hegenberg|https://api.githu...| 1001579|          Python|2017-07-07 13:47:...|2017-07-07 13:51:...|           2|\n",
      "|67459589|           The-Vault|33462110|      mjjsalcedo|https://api.githu...|20676810|      JavaScript|2017-06-18 00:29:...|2017-06-18 01:53:...|           2|\n",
      "|70518807|method-arguments-...|31859811|       ifidoesit|https://api.githu...|41581177|            Ruby|2017-07-26 01:10:...|2017-08-08 01:36:...|           2|\n",
      "|41129053|      linux-rockchip|12818611|     chirimen-oh|https://api.githu...| 4486561|               C|2015-04-20 12:49:...|2017-06-15 08:04:...|           2|\n",
      "|70675352|   pthbetter-crawler|35918216|  st4rts0mething|https://api.githu...|56759607|          Python|2017-07-27 15:37:...|2017-07-27 15:55:...|           2|\n",
      "|  171981|      Cowsay-android|  150585|          rorist|https://api.githu...|  186714|            Java|2012-01-03 13:50:...|2017-05-27 21:39:...|           2|\n",
      "|70748533|               mocha| 1986249|       ZakZubair|https://api.githu...|12752196|      JavaScript|2017-07-28 11:00:...|2018-03-07 08:36:...|           2|\n",
      "|64341761|         ImagePicker| 9332783|     bussmann-it|https://api.githu...|20887834|     Objective-C|2017-05-08 23:30:...|2017-05-08 23:32:...|           2|\n",
      "|71014647|OctopusNuGetDeplo...| 6189224|        mani0070|https://api.githu...|70996210|              C#|2017-08-01 05:51:...|2017-08-22 05:22:...|           2|\n",
      "|65394171|          Paraexamen|34208996| danielvalencia7|https://api.githu...|64475393|            Java|2017-05-21 16:07:...|2017-05-21 16:36:...|           2|\n",
      "|71587278|      typo3db_legacy| 3245116|         jokumer|https://api.githu...|63179425|             PHP|2017-08-08 07:43:...|2017-08-08 07:49:...|           2|\n",
      "|77954294|  awesome-developers|33558857|         bhavikk|https://api.githu...|76802901|      JavaScript|2017-10-20 12:46:...|2017-10-20 14:04:...|           2|\n",
      "|77999799|  python-http-client|   32468|            alfg|https://api.githu...|32740726|          Python|2017-10-21 00:02:...|2017-10-21 00:14:...|           2|\n",
      "|63236475|                tmux| 3173473|        kibos1er|https://api.githu...|20851822|               C|2017-04-25 09:33:...|2017-04-25 09:38:...|           2|\n",
      "|78021881| first-contributions|36488895|     ThinkHattke|https://api.githu...|46181265|      JavaScript|2017-10-21 08:46:...|2017-10-21 10:33:...|           2|\n",
      "|61404362|              ginkgo| 1222558|      pdelagrave|https://api.githu...| 5121880|              Go|2017-04-03 18:52:...|2017-04-03 18:54:...|           2|\n",
      "|78285388|Hacktoberfest-Sig...|38991392|taksapornauttamo|https://api.githu...|76253397|            HTML|2017-10-24 08:39:...|2017-10-24 08:42:...|           2|\n",
      "|65200080|       django-mobile| 1090831|      engintekin|https://api.githu...|   34036|          Python|2017-05-18 21:07:...|2017-05-19 18:21:...|           2|\n",
      "+--------+--------------------+--------+----------------+--------------------+--------+----------------+--------------------+--------------------+------------+\n",
      "only showing top 20 rows\n",
      "\n"
     ]
    }
   ],
   "source": [
    "edges_fork.show()"
   ]
  },
  {
   "cell_type": "code",
   "execution_count": 107,
   "metadata": {},
   "outputs": [],
   "source": [
    "forkGraph = GraphFrame(vertices_fork, edges_fork)"
   ]
  },
  {
   "cell_type": "code",
   "execution_count": 108,
   "metadata": {
    "tags": []
   },
   "outputs": [
    {
     "name": "stdout",
     "output_type": "stream",
     "text": [
      "Total Number of projects:  686177\n",
      "Total Number of fork relationship in Graph:  219759\n",
      "Total Number of projects in Original Data:  686177\n"
     ]
    }
   ],
   "source": [
    "print(\"Total Number of projects: \", forkGraph.vertices.count())\n",
    "print(\"Total Number of fork relationship in Graph: \", forkGraph.edges.count())\n",
    "print(\"Total Number of projects in Original Data: \", active_projectsDF.select('project_id').distinct().count())"
   ]
  },
  {
   "cell_type": "markdown",
   "metadata": {},
   "source": [
    "**Degree statistics and distribution**\n",
    "Analyzing the incoming degree and outgoing degree of all nodes:"
   ]
  },
  {
   "cell_type": "code",
   "execution_count": 109,
   "metadata": {},
   "outputs": [
    {
     "name": "stdout",
     "output_type": "stream",
     "text": [
      "+--------+---------+\n",
      "|      id|outDegree|\n",
      "+--------+---------+\n",
      "| 9808223|      794|\n",
      "| 9988540|      653|\n",
      "| 9409249|      548|\n",
      "|22097841|      395|\n",
      "|64482546|      289|\n",
      "|33055832|      260|\n",
      "|     992|      226|\n",
      "|76506249|      199|\n",
      "| 7412393|      195|\n",
      "| 7846626|      174|\n",
      "|    3981|      172|\n",
      "|20594602|      165|\n",
      "|69964388|      163|\n",
      "|66184682|      156|\n",
      "|76767171|      143|\n",
      "|41857480|      140|\n",
      "| 3828093|      138|\n",
      "|76253397|      133|\n",
      "|13642463|      121|\n",
      "|16978185|      114|\n",
      "+--------+---------+\n",
      "only showing top 20 rows\n",
      "\n"
     ]
    }
   ],
   "source": [
    "outDeg = forkGraph.outDegrees.orderBy(desc(\"outDegree\"))\n",
    "outDeg.show()"
   ]
  },
  {
   "cell_type": "code",
   "execution_count": 110,
   "metadata": {},
   "outputs": [
    {
     "name": "stdout",
     "output_type": "stream",
     "text": [
      "+--------+--------+\n",
      "|      id|inDegree|\n",
      "+--------+--------+\n",
      "| 1292491|       1|\n",
      "| 7432164|       1|\n",
      "| 7994355|       1|\n",
      "|42755435|       1|\n",
      "|55592537|       1|\n",
      "|56375112|       1|\n",
      "|61897804|       1|\n",
      "|62099486|       1|\n",
      "|62862379|       1|\n",
      "|62988059|       1|\n",
      "|64401641|       1|\n",
      "|65405777|       1|\n",
      "|65996175|       1|\n",
      "|66506520|       1|\n",
      "|66561690|       1|\n",
      "|66566812|       1|\n",
      "|74728057|       1|\n",
      "|75124851|       1|\n",
      "|75748539|       1|\n",
      "|76328678|       1|\n",
      "+--------+--------+\n",
      "only showing top 20 rows\n",
      "\n"
     ]
    }
   ],
   "source": [
    "inDeg = forkGraph.inDegrees.orderBy(desc(\"inDegree\"))\n",
    "inDeg.show()"
   ]
  },
  {
   "cell_type": "code",
   "execution_count": 111,
   "metadata": {},
   "outputs": [
    {
     "name": "stdout",
     "output_type": "stream",
     "text": [
      "Wall time: 41min 24s\n"
     ]
    }
   ],
   "source": [
    "%%time\n",
    "pr_fork = forkGraph.pageRank(resetProbability=0.15, tol=0.01)"
   ]
  },
  {
   "cell_type": "code",
   "execution_count": 112,
   "metadata": {},
   "outputs": [],
   "source": [
    "pr_forkDF = pr_fork.vertices.orderBy(desc(\"pagerank\")).select([\"id\", \"pagerank\"])"
   ]
  },
  {
   "cell_type": "code",
   "execution_count": 113,
   "metadata": {},
   "outputs": [
    {
     "name": "stdout",
     "output_type": "stream",
     "text": [
      "+--------+------------------+\n",
      "|      id|          pagerank|\n",
      "+--------+------------------+\n",
      "|67090338|3.2234344881580714|\n",
      "|65401905|3.2234344881580714|\n",
      "|66442294|3.2234344881580714|\n",
      "|80143029|2.7697218281884224|\n",
      "|88508135|2.7697218281884224|\n",
      "|82940483|2.7697218281884224|\n",
      "|70014118|2.7697218281884224|\n",
      "|62729330|2.7697218281884224|\n",
      "|91898647|2.7697218281884224|\n",
      "|86130617|2.7697218281884224|\n",
      "|81366577|2.7697218281884224|\n",
      "|90236178|2.7697218281884224|\n",
      "|76299314|2.7697218281884224|\n",
      "|88939708|2.7697218281884224|\n",
      "|76736436|2.7697218281884224|\n",
      "|43332493|2.7697218281884224|\n",
      "|66225510|2.7697218281884224|\n",
      "|80966903|2.7697218281884224|\n",
      "|83215282|2.7697218281884224|\n",
      "|73020618|2.7697218281884224|\n",
      "+--------+------------------+\n",
      "only showing top 20 rows\n",
      "\n"
     ]
    }
   ],
   "source": [
    "pr_fork.vertices.orderBy(desc(\"pagerank\")).select([\"id\", \"pagerank\"]).show()"
   ]
  },
  {
   "cell_type": "code",
   "execution_count": 114,
   "metadata": {},
   "outputs": [],
   "source": [
    "# # save pr_fork to Parquet for easier retrival and continuous work on the project\n",
    "# pr_fork.vertices.orderBy(desc(\"pagerank\")).select([\"id\", \"pagerank\"]).write.parquet(path=os.getcwd()+'\\pr_fork.parquet')"
   ]
  },
  {
   "cell_type": "code",
   "execution_count": 57,
   "metadata": {},
   "outputs": [
    {
     "name": "stdout",
     "output_type": "stream",
     "text": [
      "+--------+------------------+\n",
      "|      id|          pagerank|\n",
      "+--------+------------------+\n",
      "|37846764|0.8701014068604669|\n",
      "|55855345|0.8701014068604669|\n",
      "|61372035|0.8701014068604669|\n",
      "|68288803|0.8701014068604669|\n",
      "|38885126|0.8701014068604669|\n",
      "+--------+------------------+\n",
      "only showing top 5 rows\n",
      "\n"
     ]
    }
   ],
   "source": [
    "# load the pr_fork from saved parquet file to save time\n",
    "pr_forkDF = spark.read.parquet('pr_fork.parquet')\n",
    "pr_forkDF.show(5)"
   ]
  },
  {
   "cell_type": "markdown",
   "metadata": {},
   "source": [
    "#### Select active users\n",
    "To conduct the co-authorship network analysis, the users qualified as co-authors to projects/repositories need to be selected. Cohen and Consens considered only committers who contributed more than 75% of the average commits per repository as collaborators/co-authors for a certain repository [4]. In Cohen and Consens work, the filtering criterion stated above can be summarized as \n",
    "$$c(d, r) > \\theta*c_{avg} (r)$$, \n",
    "where \n",
    "- $c(d, r)$: the number of commits by a developer d to a specific repository r, \n",
    "- $\\theta$: parameterized activity threshold\n",
    "- $c_{avg} (r)$ is the average number of commits per repository.\n",
    "\n",
    "For $\\theta = 0.3$, it is validated the active developers consists approximately 80% of all commits for each programming language."
   ]
  },
  {
   "cell_type": "code",
   "execution_count": 59,
   "metadata": {},
   "outputs": [],
   "source": [
    "active_userDF = committersDF.select('committer_login','committer_id','project_id','repo_name','commit_count') \\\n",
    "                            .withColumnRenamed('committer_login','owner_login') \\\n",
    "                            .join(user_languageDF.select('owner_login','project_language'),'owner_login') \\\n",
    "                            .withColumnRenamed('owner_login','committer_login')"
   ]
  },
  {
   "cell_type": "code",
   "execution_count": 72,
   "metadata": {},
   "outputs": [],
   "source": [
    "# # save active_user for future access\n",
    "# active_userDF.write.parquet(path = os.getcwd() + '/active_userDF.parquet')"
   ]
  },
  {
   "cell_type": "code",
   "execution_count": 73,
   "metadata": {},
   "outputs": [],
   "source": [
    "active_userDF = spark.read.parquet('active_userDF.parquet')"
   ]
  },
  {
   "cell_type": "code",
   "execution_count": 62,
   "metadata": {},
   "outputs": [
    {
     "data": {
      "text/plain": [
       "5856395"
      ]
     },
     "execution_count": 62,
     "metadata": {},
     "output_type": "execute_result"
    }
   ],
   "source": [
    "committersDF.count()"
   ]
  },
  {
   "cell_type": "code",
   "execution_count": 74,
   "metadata": {},
   "outputs": [
    {
     "data": {
      "text/plain": [
       "1655681"
      ]
     },
     "execution_count": 74,
     "metadata": {},
     "output_type": "execute_result"
    }
   ],
   "source": [
    "active_userDF.count()"
   ]
  },
  {
   "cell_type": "markdown",
   "metadata": {},
   "source": [
    "**Comment:** active users using the programming languages of interests to this project consist of 33% of total developers."
   ]
  },
  {
   "cell_type": "markdown",
   "metadata": {
    "tags": []
   },
   "source": [
    "##### Select users based on $c(d, r) > \\theta*c_{avg} (r)$"
   ]
  },
  {
   "cell_type": "code",
   "execution_count": 64,
   "metadata": {},
   "outputs": [
    {
     "data": {
      "text/plain": [
       "686177"
      ]
     },
     "execution_count": 64,
     "metadata": {},
     "output_type": "execute_result"
    }
   ],
   "source": [
    "active_projectsDF.count()"
   ]
  },
  {
   "cell_type": "code",
   "execution_count": 65,
   "metadata": {},
   "outputs": [
    {
     "data": {
      "text/plain": [
       "[Row(sum(commit_count)=188749370)]"
      ]
     },
     "execution_count": 65,
     "metadata": {},
     "output_type": "execute_result"
    }
   ],
   "source": [
    "active_projectsDF.agg(sum('commit_count')).collect()"
   ]
  },
  {
   "cell_type": "code",
   "execution_count": 67,
   "metadata": {},
   "outputs": [],
   "source": [
    "c_avg = 188749370/686177"
   ]
  },
  {
   "cell_type": "code",
   "execution_count": 124,
   "metadata": {},
   "outputs": [
    {
     "data": {
      "text/plain": [
       "82.52216410634574"
      ]
     },
     "execution_count": 124,
     "metadata": {},
     "output_type": "execute_result"
    }
   ],
   "source": [
    "0.3*c_avg"
   ]
  },
  {
   "cell_type": "code",
   "execution_count": 125,
   "metadata": {},
   "outputs": [],
   "source": [
    "primary_committers = active_userDF.filter('commit_count > 82') "
   ]
  },
  {
   "cell_type": "code",
   "execution_count": 126,
   "metadata": {},
   "outputs": [
    {
     "name": "stdout",
     "output_type": "stream",
     "text": [
      "+---------------+------------+----------+--------------------+------------+----------------+\n",
      "|committer_login|committer_id|project_id|           repo_name|commit_count|project_language|\n",
      "+---------------+------------+----------+--------------------+------------+----------------+\n",
      "|          0xsky|     2765829|  10652012|              xredis|         115|             C++|\n",
      "|     1aurabrown|     1370052|  43642728|               force|         116|             CSS|\n",
      "|      215566435|    13288454|  75646616|                 Luy|         135|      JavaScript|\n",
      "|      215566435|    13288454|  88842212|             Dragact|         100|      JavaScript|\n",
      "|        54sword|      728771|  58851476|    api.xiaoduyu.com|          87|      JavaScript|\n",
      "|          AAlvz|     1808095|  11690304|adblockplus-infra...|          99|           Shell|\n",
      "|     AlanCoding|     8033290|  10310401|           tower-cli|         263|          Python|\n",
      "|     AlanCoding|     8033290|  74026845|                 awx|         163|          Python|\n",
      "|     AlanCoding|     8033290|  24193071|           tower-cli|         515|          Python|\n",
      "| AldoCompagnoni|     2375309|  45882757|              popler|         218|               R|\n",
      "|        Alsturm|    32963597|  76155399|              epm-wl|         123|            Java|\n",
      "|     AtomicBlom|     1749089|  11265853|         SteamNSteel|         246|            Java|\n",
      "|     AtomicBlom|     1749089|  43953536|        ShearMadness|         124|            Java|\n",
      "|     AtomicBlom|     1749089|  64712091|      twilightforest|         120|            Java|\n",
      "|     AtomicBlom|     1749089|  64714637|      twilightforest|         172|            Java|\n",
      "|      Atticus29|     1605025|  69811740|Wildbook_javaTwee...|         262|            Java|\n",
      "|      Atticus29|     1605025|  65710680|                 AvB|         127|            Java|\n",
      "|      Atticus29|     1605025|  80908284|           dataJitsu|         117|            Java|\n",
      "|      Atticus29|     1605025|  68389820|       swarmReporter|         181|            Java|\n",
      "|      Avatar690|    34400474|  63414650|             Monocle|         122|          Python|\n",
      "+---------------+------------+----------+--------------------+------------+----------------+\n",
      "only showing top 20 rows\n",
      "\n"
     ]
    }
   ],
   "source": [
    "primary_committers.show()"
   ]
  },
  {
   "cell_type": "code",
   "execution_count": 127,
   "metadata": {},
   "outputs": [],
   "source": [
    "primary_committers.createOrReplaceTempView('primary_committers')"
   ]
  },
  {
   "cell_type": "code",
   "execution_count": 128,
   "metadata": {},
   "outputs": [
    {
     "name": "stdout",
     "output_type": "stream",
     "text": [
      "+----------------+-----------------------+--------------------+\n",
      "|project_language|primary_developer_count|primary_commit_count|\n",
      "+----------------+-----------------------+--------------------+\n",
      "|JavaScript      |41984                  |12647145            |\n",
      "|Python          |32427                  |12583489            |\n",
      "|Java            |21403                  |11345205            |\n",
      "|C++             |17311                  |8502997             |\n",
      "|PHP             |14276                  |5405309             |\n",
      "|Ruby            |13620                  |4664918             |\n",
      "|C               |13351                  |7931708             |\n",
      "|HTML            |12965                  |3890972             |\n",
      "|CSS             |8570                   |2717211             |\n",
      "|Go              |8350                   |2885028             |\n",
      "|Shell           |8021                   |2925278             |\n",
      "|C#              |7655                   |2700586             |\n",
      "|Scala           |3199                   |1268407             |\n",
      "|TypeScript      |2973                   |903038              |\n",
      "|Rust            |2938                   |1022440             |\n",
      "|Perl            |2789                   |1557504             |\n",
      "|R               |2257                   |662121              |\n",
      "|Swift           |1803                   |514172              |\n",
      "|Objective-C     |1416                   |405941              |\n",
      "|Jupyter Notebook|1057                   |351338              |\n",
      "+----------------+-----------------------+--------------------+\n",
      "\n"
     ]
    }
   ],
   "source": [
    "# the filtered primary users for each project language based on the algorithm \n",
    "primary_user_language_countsDF = spark.sql('''\n",
    "SELECT \n",
    "    project_language,\n",
    "    count(committer_login) primary_developer_count,\n",
    "    sum(commit_count) primary_commit_count\n",
    "FROM primary_committers\n",
    "GROUP BY project_language\n",
    "ORDER BY primary_developer_count desc\n",
    "''')\n",
    "primary_user_language_countsDF.show(30,False)"
   ]
  },
  {
   "cell_type": "code",
   "execution_count": 129,
   "metadata": {},
   "outputs": [
    {
     "name": "stdout",
     "output_type": "stream",
     "text": [
      "+----------------+-----------------+--------------+\n",
      "|project_language|num_of_developers|num_of_commits|\n",
      "+----------------+-----------------+--------------+\n",
      "|      JavaScript|           357256|      17593425|\n",
      "|          Python|           239319|      15727094|\n",
      "|            Java|           153531|      13459187|\n",
      "|             C++|            97941|       9817521|\n",
      "|               C|            76556|       8907488|\n",
      "|             PHP|           112678|       6892676|\n",
      "|            Ruby|           109814|       6111009|\n",
      "|            HTML|           113596|       5437364|\n",
      "|              Go|            75141|       3815823|\n",
      "|           Shell|            68745|       3782672|\n",
      "|             CSS|            65137|       3638980|\n",
      "|              C#|            55219|       3465026|\n",
      "|            Perl|            15438|       1763637|\n",
      "|           Scala|            18371|       1503661|\n",
      "|            Rust|            24328|       1314024|\n",
      "|      TypeScript|            24839|       1251675|\n",
      "|               R|            10990|        829265|\n",
      "|           Swift|            16554|        746062|\n",
      "|     Objective-C|            11600|        562166|\n",
      "|Jupyter Notebook|             8628|        469320|\n",
      "+----------------+-----------------+--------------+\n",
      "\n"
     ]
    }
   ],
   "source": [
    "# the total number of developers and commits for each language\n",
    "active_user_language_stats = active_userDF.groupBy('project_language').agg(count('committer_login').alias('num_of_developers'),sum('commit_count').alias('num_of_commits')).orderBy(desc('num_of_commits'))\n",
    "active_user_language_stats.show()"
   ]
  },
  {
   "cell_type": "code",
   "execution_count": 139,
   "metadata": {},
   "outputs": [
    {
     "name": "stdout",
     "output_type": "stream",
     "text": [
      "+----------------+-----------------------------+---------------------+\n",
      "|project_language|Fraction of Active Developers|Percentage of Commits|\n",
      "+----------------+-----------------------------+---------------------+\n",
      "|C               |0.174                        |89.05                |\n",
      "|C#              |0.139                        |77.94                |\n",
      "|C++             |0.177                        |86.61                |\n",
      "|CSS             |0.132                        |74.67                |\n",
      "|Go              |0.111                        |75.61                |\n",
      "|HTML            |0.114                        |71.56                |\n",
      "|Java            |0.139                        |84.29                |\n",
      "|JavaScript      |0.118                        |71.89                |\n",
      "|Jupyter Notebook|0.123                        |74.86                |\n",
      "|Objective-C     |0.122                        |72.21                |\n",
      "|PHP             |0.127                        |78.42                |\n",
      "|Perl            |0.181                        |88.31                |\n",
      "|Python          |0.135                        |80.01                |\n",
      "|R               |0.205                        |79.84                |\n",
      "|Ruby            |0.124                        |76.34                |\n",
      "|Rust            |0.121                        |77.81                |\n",
      "|Scala           |0.174                        |84.35                |\n",
      "|Shell           |0.117                        |77.33                |\n",
      "|Swift           |0.109                        |68.92                |\n",
      "|TypeScript      |0.12                         |72.15                |\n",
      "+----------------+-----------------------------+---------------------+\n",
      "\n"
     ]
    }
   ],
   "source": [
    "primary_user_language_countsDF.join(active_user_language_stats, 'project_language') \\\n",
    "                              .withColumn('Fraction of Active Developers', round(col('primary_developer_count')/col('num_of_developers'),3)) \\\n",
    "                              .withColumn('Percentage of Commits', round(col('primary_commit_count')/col('num_of_commits')*100,2)) \\\n",
    "                              .select('project_language','Fraction of Active Developers','Percentage of Commits') \\\n",
    "                              .orderBy('project_language').show(30,False)\n",
    "        "
   ]
  },
  {
   "cell_type": "markdown",
   "metadata": {},
   "source": [
    "**Comment:** For $\\theta = 0.3$, it is found that the primary committers contributes to around 80% onaverage for each project language, and around 85% of developers are inactive that can be excluded to make the co-commit network analysis far more computational efficient without affecting the results"
   ]
  },
  {
   "cell_type": "code",
   "execution_count": 141,
   "metadata": {},
   "outputs": [],
   "source": [
    "vertices_user = primary_committers.withColumnRenamed(\"committer_id\",'id').distinct()"
   ]
  },
  {
   "cell_type": "code",
   "execution_count": 142,
   "metadata": {
    "tags": []
   },
   "outputs": [
    {
     "name": "stdout",
     "output_type": "stream",
     "text": [
      "root\n",
      " |-- committer_login: string (nullable = true)\n",
      " |-- id: integer (nullable = true)\n",
      " |-- project_id: integer (nullable = true)\n",
      " |-- repo_name: string (nullable = true)\n",
      " |-- commit_count: integer (nullable = true)\n",
      " |-- project_language: string (nullable = true)\n",
      "\n"
     ]
    }
   ],
   "source": [
    "vertices_user.printSchema()"
   ]
  },
  {
   "cell_type": "code",
   "execution_count": 143,
   "metadata": {},
   "outputs": [],
   "source": [
    "user_repoDF = primary_committers.select(\"committer_id\",\"project_id\")"
   ]
  },
  {
   "cell_type": "code",
   "execution_count": 144,
   "metadata": {},
   "outputs": [],
   "source": [
    "edges_user = user_repoDF.withColumnRenamed(\"committer_id\", \"id1\"). \\\n",
    "                      join(user_repoDF.withColumnRenamed(\"committer_id\", \"id2\"), \"project_id\"). \\\n",
    "                      where(\"id1 < id2\"). \\\n",
    "                      select(\"id1\", \"id2\",'project_id'). \\\n",
    "                      distinct()"
   ]
  },
  {
   "cell_type": "code",
   "execution_count": 866,
   "metadata": {},
   "outputs": [
    {
     "data": {
      "text/plain": [
       "247496"
      ]
     },
     "execution_count": 866,
     "metadata": {},
     "output_type": "execute_result"
    }
   ],
   "source": [
    "edges_user.count()"
   ]
  },
  {
   "cell_type": "code",
   "execution_count": 146,
   "metadata": {},
   "outputs": [
    {
     "name": "stdout",
     "output_type": "stream",
     "text": [
      "+-------+-------+----------+\n",
      "|    id1|    id2|project_id|\n",
      "+-------+-------+----------+\n",
      "|4469689|7949166|  30811447|\n",
      "|  64724|  77776|  17208611|\n",
      "|   5566|3220058|       864|\n",
      "|   5566|  82337|  19984183|\n",
      "| 931540|1795726|   3240743|\n",
      "+-------+-------+----------+\n",
      "only showing top 5 rows\n",
      "\n"
     ]
    }
   ],
   "source": [
    "edges_user.show(5)"
   ]
  },
  {
   "cell_type": "code",
   "execution_count": 147,
   "metadata": {},
   "outputs": [],
   "source": [
    "edges_user = edges_user.withColumnRenamed(\"id1\", \"src\"). \\\n",
    "                        withColumnRenamed(\"id2\", \"dst\")"
   ]
  },
  {
   "cell_type": "code",
   "execution_count": 148,
   "metadata": {},
   "outputs": [
    {
     "name": "stdout",
     "output_type": "stream",
     "text": [
      "root\n",
      " |-- src: integer (nullable = true)\n",
      " |-- dst: integer (nullable = true)\n",
      " |-- project_id: integer (nullable = true)\n",
      "\n"
     ]
    }
   ],
   "source": [
    "edges_user.printSchema()"
   ]
  },
  {
   "cell_type": "code",
   "execution_count": 245,
   "metadata": {},
   "outputs": [],
   "source": [
    "cocommitGraphDF = GraphFrame(vertices_user, edges_user)"
   ]
  },
  {
   "cell_type": "code",
   "execution_count": 150,
   "metadata": {},
   "outputs": [
    {
     "name": "stdout",
     "output_type": "stream",
     "text": [
      "+-------+---------+\n",
      "|     id|outDegree|\n",
      "+-------+---------+\n",
      "|  13194|     1208|\n",
      "|   5203|     1011|\n",
      "|   5212|      948|\n",
      "|    129|      924|\n",
      "|   5291|      801|\n",
      "|   6417|      761|\n",
      "|   6682|      734|\n",
      "|  28831|      700|\n",
      "|  15756|      638|\n",
      "|  40493|      598|\n",
      "|  30140|      550|\n",
      "|   6023|      545|\n",
      "|  45873|      523|\n",
      "|  17141|      518|\n",
      "| 231317|      516|\n",
      "|1665613|      515|\n",
      "| 100937|      514|\n",
      "| 115196|      499|\n",
      "|  11796|      489|\n",
      "|   2779|      483|\n",
      "+-------+---------+\n",
      "only showing top 20 rows\n",
      "\n"
     ]
    }
   ],
   "source": [
    "outDeg = cocommitGraphDF.outDegrees.orderBy(desc(\"outDegree\"))\n",
    "outDeg.show()"
   ]
  },
  {
   "cell_type": "code",
   "execution_count": 151,
   "metadata": {},
   "outputs": [
    {
     "name": "stdout",
     "output_type": "stream",
     "text": [
      "+-------+--------+\n",
      "|     id|inDegree|\n",
      "+-------+--------+\n",
      "|4659404|     887|\n",
      "| 629598|     853|\n",
      "| 333582|     739|\n",
      "|3119227|     703|\n",
      "|1868770|     604|\n",
      "|2323119|     583|\n",
      "| 130519|     580|\n",
      "|2062189|     530|\n",
      "|3204869|     528|\n",
      "|1665613|     497|\n",
      "|6751821|     465|\n",
      "|  71242|     462|\n",
      "|4605094|     451|\n",
      "|7780816|     448|\n",
      "| 339696|     436|\n",
      "| 603514|     431|\n",
      "| 923877|     425|\n",
      "|3035095|     423|\n",
      "|3307580|     422|\n",
      "|3480946|     419|\n",
      "+-------+--------+\n",
      "only showing top 20 rows\n",
      "\n",
      "Wall time: 20.9 s\n"
     ]
    }
   ],
   "source": [
    "%%time\n",
    "inDeg = cocommitGraphDF.inDegrees.orderBy(desc(\"inDegree\"))\n",
    "inDeg.show()"
   ]
  },
  {
   "cell_type": "code",
   "execution_count": 246,
   "metadata": {},
   "outputs": [
    {
     "name": "stdout",
     "output_type": "stream",
     "text": [
      "Wall time: 15min 59s\n"
     ]
    }
   ],
   "source": [
    "%%time\n",
    "pr_cocommit = cocommitGraphDF.pageRank(resetProbability=0.15, tol=0.01)"
   ]
  },
  {
   "cell_type": "code",
   "execution_count": 247,
   "metadata": {},
   "outputs": [],
   "source": [
    "# # save pr_fork to Parquet for easier retrival and continuous work on the project\n",
    "# pr_cocommit.vertices.orderBy(desc(\"pagerank\")).select([\"id\", \"pagerank\"]).write.parquet(path=os.getcwd()+'\\pr_cocommit.parquet')"
   ]
  },
  {
   "cell_type": "code",
   "execution_count": 447,
   "metadata": {},
   "outputs": [
    {
     "name": "stdout",
     "output_type": "stream",
     "text": [
      "+--------+------------------+\n",
      "|      id|          pagerank|\n",
      "+--------+------------------+\n",
      "|31120552|0.7789892663441332|\n",
      "|  634991|0.7789892663441332|\n",
      "| 6834732|0.7789892663441332|\n",
      "|  336940|0.7789892663441332|\n",
      "|  662646|0.7789892663441332|\n",
      "| 3542734|0.7789892663441332|\n",
      "+--------+------------------+\n",
      "only showing top 6 rows\n",
      "\n"
     ]
    }
   ],
   "source": [
    "# load the pr_fork from saved parquet file to save time\n",
    "pr_cocommit = spark.read.parquet('pr_cocommit.parquet')\n",
    "pr_cocommit = pr_cocommit.distinct()\n",
    "pr_cocommit.show(6)"
   ]
  },
  {
   "cell_type": "markdown",
   "metadata": {},
   "source": [
    "#### 6.2.2 Calculate Gh-impact that resembles h-index"
   ]
  },
  {
   "cell_type": "markdown",
   "metadata": {},
   "source": [
    "Ian Dennis Miller [7] , a PhD student in UofT, announced _gh-impact_ as a measure of influence among open source developers, which resembles the h-index for scholers. Gh-impact is defined as that an account has a gh-impact score of **n** if they have **n** projects with at least **n** stars.\n",
    "\n",
    "_source: http://www.gh-impact.com_"
   ]
  },
  {
   "cell_type": "markdown",
   "metadata": {},
   "source": [
    "**Definition:** A developer has index h if h of his/her Np repositories have at least h stars each, and the other (Np − h) repositories have no more than h stars each.\n"
   ]
  },
  {
   "cell_type": "code",
   "execution_count": 758,
   "metadata": {},
   "outputs": [
    {
     "name": "stdout",
     "output_type": "stream",
     "text": [
      "+----------+----------+---------+\n",
      "|project_id|star_count|week_diff|\n",
      "+----------+----------+---------+\n",
      "|  14477484|    218166|    170.0|\n",
      "|  28557277|     97842|    125.0|\n",
      "|   3905191|     87948|    252.0|\n",
      "|  27601818|     84975|    128.0|\n",
      "|  10778840|     83204|    194.0|\n",
      "|   6445576|     76734|    228.0|\n",
      "|   4708601|     74394|    348.0|\n",
      "|      3231|     72362|    448.0|\n",
      "|   5659677|     71884|    190.0|\n",
      "|   1155356|     69331|    282.0|\n",
      "+----------+----------+---------+\n",
      "only showing top 10 rows\n",
      "\n"
     ]
    }
   ],
   "source": [
    "project_timespan_starsDF = spark.sql('''\n",
    "SELECT \n",
    "    project_id,\n",
    "    star_count,\n",
    "    ROUND(DATEDIFF(latest_star_date,oldest_star_date)/7) week_diff\n",
    "FROM\n",
    "    active_project_stars\n",
    "ORDER BY star_count desc\n",
    "''')\n",
    "project_timespan_starsDF.createOrReplaceTempView('project_timespan_stars')\n",
    "project_timespan_starsDF.show(10)"
   ]
  },
  {
   "cell_type": "code",
   "execution_count": 759,
   "metadata": {},
   "outputs": [
    {
     "name": "stdout",
     "output_type": "stream",
     "text": [
      "+---------------+------------+----------+----------------+------------+----------------+\n",
      "|committer_login|committer_id|project_id|       repo_name|commit_count|project_language|\n",
      "+---------------+------------+----------+----------------+------------+----------------+\n",
      "|          0xsky|     2765829|  10652012|          xredis|         115|             C++|\n",
      "|     1aurabrown|     1370052|  43642728|           force|         116|             CSS|\n",
      "|      215566435|    13288454|  75646616|             Luy|         135|      JavaScript|\n",
      "|      215566435|    13288454|  88842212|         Dragact|         100|      JavaScript|\n",
      "|        54sword|      728771|  58851476|api.xiaoduyu.com|          87|      JavaScript|\n",
      "+---------------+------------+----------+----------------+------------+----------------+\n",
      "only showing top 5 rows\n",
      "\n"
     ]
    }
   ],
   "source": [
    "primary_committers.show(5)"
   ]
  },
  {
   "cell_type": "code",
   "execution_count": 760,
   "metadata": {},
   "outputs": [],
   "source": [
    "committer_star = primary_committers.join(project_timespan_starsDF,'project_id').orderBy('committer_login')"
   ]
  },
  {
   "cell_type": "code",
   "execution_count": 761,
   "metadata": {},
   "outputs": [
    {
     "name": "stdout",
     "output_type": "stream",
     "text": [
      "+----------+---------------+------------+--------------------+------------+----------------+----------+---------+\n",
      "|project_id|committer_login|committer_id|           repo_name|commit_count|project_language|star_count|week_diff|\n",
      "+----------+---------------+------------+--------------------+------------+----------------+----------+---------+\n",
      "|  12870957|        00-Evan|     4761381|shattered-pixel-d...|         123|            Java|        60|    174.0|\n",
      "|  11172397|        00-Evan|     4761381|shattered-pixel-d...|        1255|            Java|       290|    189.0|\n",
      "|  10401646|        0003088|     4613472|          libelektra|          83|             C++|        97|    193.0|\n",
      "|  11651173|        0003088|     4613472|          libelektra|         142|             C++|         1|      0.0|\n",
      "|  22073200|            00K|     1596814|                tera|         334|             C++|      1450|    141.0|\n",
      "|  25844356|            00K|     1596814|                 mdt|          84|             C++|        12|      0.0|\n",
      "|  78540327| 00SaadChaudhry|    31603010|          CS50_Notes|         276|            HTML|        14|     19.0|\n",
      "|  73669266| 00SaadChaudhry|    31603010|youDontKnowJS_Cou...|         124|            HTML|         2|      3.0|\n",
      "|    956619|           0101|      411138|           pipetools|         105|          Python|        64|    266.0|\n",
      "|  12590770|        01micko|      653700|           petbuilds|         238|               C|         5|    129.0|\n",
      "|  32773335|        01micko|      653700|puppylinux-woof-C...|         100|               C|         2|     16.0|\n",
      "|   6382221|        01micko|      653700|             woof-CE|        1319|               C|       119|    228.0|\n",
      "|   1845706|       02strich|      336373|                EvaP|         130|          Python|        34|    260.0|\n",
      "|  11726963|           0532|     4616913|              resume|          90|             CSS|         1|      0.0|\n",
      "|  29693240|           06wj|      160318|                hilo|         266|      JavaScript|      4686|    120.0|\n",
      "|  44939562|    085astatine|     3767682|            SlackBot|         140|          Python|         1|      0.0|\n",
      "|  56893172|     0918nobita|     4907756|              Xemime|         268|            HTML|         1|      0.0|\n",
      "|   3538254|      09zwcbupt|      938648|            personal|         271|          Python|         1|      0.0|\n",
      "|  30927077|           0XE4|    11162939|      0XE4.github.io|          96|            HTML|        11|      7.0|\n",
      "|  77748874|           0c34|    35928560|               govwa|         109|            HTML|        36|     15.0|\n",
      "+----------+---------------+------------+--------------------+------------+----------------+----------+---------+\n",
      "only showing top 20 rows\n",
      "\n"
     ]
    }
   ],
   "source": [
    "committer_star.show()"
   ]
  },
  {
   "cell_type": "code",
   "execution_count": 765,
   "metadata": {},
   "outputs": [],
   "source": [
    "ghimpactDF_pre = committer_star.select('committer_login','committer_id','project_id','repo_name','project_language','star_count') \\\n",
    "                               .groupBy('committer_login').agg(count('project_id').alias('n_repo'),sum('star_count').alias('n_star'))"
   ]
  },
  {
   "cell_type": "code",
   "execution_count": 767,
   "metadata": {},
   "outputs": [],
   "source": [
    "# # save committer_star into local parquet for faster future access\n",
    "# committer_star.write.parquet(path = os.getcwd()+'\\committer_star.parquet')"
   ]
  },
  {
   "cell_type": "code",
   "execution_count": 768,
   "metadata": {},
   "outputs": [],
   "source": [
    "committer_star = spark.read.parquet('committer_star.parquet')"
   ]
  },
  {
   "cell_type": "markdown",
   "metadata": {},
   "source": [
    "Prepare the dataframe to apply the \"h-index\" algorithm by first convert the sorted number of repository stars into a list for each developer"
   ]
  },
  {
   "cell_type": "code",
   "execution_count": 826,
   "metadata": {},
   "outputs": [],
   "source": [
    "ghimpactDF_pre = committer_star.select('committer_login','committer_id','project_id','repo_name','project_language','star_count') \\\n",
    "                               .groupBy('committer_login').agg(collect_list('star_count')).rdd.map(lambda x: (x[0],sorted(x[1])))\n",
    "\n",
    "ghimpactDF_pre = ghimpactDF_pre.toDF(['committer_login','star_list'])"
   ]
  },
  {
   "cell_type": "code",
   "execution_count": 827,
   "metadata": {},
   "outputs": [
    {
     "name": "stdout",
     "output_type": "stream",
     "text": [
      "+----------------+--------------------+\n",
      "| committer_login|           star_list|\n",
      "+----------------+--------------------+\n",
      "|     AdirShemesh|                 [1]|\n",
      "|        AgtLucas|           [1, 1, 9]|\n",
      "|        AkashiSN|              [6, 7]|\n",
      "|       Albert221|                 [8]|\n",
      "|       AmatCoder|                [76]|\n",
      "|            Ane2|                [26]|\n",
      "|         Arrilot|           [33, 440]|\n",
      "|         Arvenil|       [16, 34, 140]|\n",
      "|          Austio|                [10]|\n",
      "|          Briles|         [106, 2728]|\n",
      "|CamDavidsonPilon|   [438, 660, 14973]|\n",
      "|   Cornelius2017|                 [1]|\n",
      "|         Crisu83|       [12, 32, 275]|\n",
      "|          Crowes|                 [1]|\n",
      "|        CyberZHG|            [10, 18]|\n",
      "|       CyrusSUEN|         [260, 2011]|\n",
      "|      DataTables|[1, 3, 4, 8, 8, 1...|\n",
      "|           Daudr|                 [1]|\n",
      "|          Dieken|                [15]|\n",
      "|         Ellpeck|            [3, 113]|\n",
      "+----------------+--------------------+\n",
      "only showing top 20 rows\n",
      "\n"
     ]
    }
   ],
   "source": [
    "ghimpactDF_pre.show()"
   ]
  },
  {
   "cell_type": "code",
   "execution_count": 840,
   "metadata": {},
   "outputs": [],
   "source": [
    "# define a UDF to calculate the GH-impact by applying iterating algorithm to the number of star list for each committer\n",
    "def calc_ghi(stars):\n",
    "    low = 0\n",
    "    length = len(stars)\n",
    "    high = length\n",
    "    while (low < high):\n",
    "        mid = int(low + (high-low)/2)\n",
    "        if (stars[mid]==length-mid):\n",
    "            return stars[mid]\n",
    "        elif (stars[mid]>(length-mid)):\n",
    "            high = mid\n",
    "        else:\n",
    "            low = mid+1     \n",
    "\n",
    "    return length-high\n",
    "\n",
    "# Register as Spark UDF\n",
    "calc_ghiUDF = udf(lambda x: calc_ghi(x), IntegerType())"
   ]
  },
  {
   "cell_type": "code",
   "execution_count": 845,
   "metadata": {},
   "outputs": [],
   "source": [
    "ghimpactDF = ghimpactDF_pre.withColumn('ghimpact',calc_ghiUDF('star_list'))"
   ]
  },
  {
   "cell_type": "code",
   "execution_count": 846,
   "metadata": {},
   "outputs": [
    {
     "name": "stdout",
     "output_type": "stream",
     "text": [
      "+---------------+--------------------+--------+\n",
      "|committer_login|           star_list|ghimpact|\n",
      "+---------------+--------------------+--------+\n",
      "|         fabpot|[1, 1, 1, 1, 1, 1...|      54|\n",
      "|   sindresorhus|[1, 1, 1, 68, 70,...|      50|\n",
      "|     dougwilson|[10, 23, 24, 55, ...|      43|\n",
      "| michaelklishin|[3, 4, 5, 5, 8, 1...|      42|\n",
      "|   kevinsawicki|[4, 19, 23, 40, 6...|      40|\n",
      "|       pranavkm|[12, 21, 29, 30, ...|      39|\n",
      "|         gregkh|[1, 1, 1, 1, 1, 1...|      38|\n",
      "|   renovate-bot|[1, 1, 1, 1, 1, 1...|      37|\n",
      "| nicolas-grekas|[1, 1, 1, 1, 1, 2...|      36|\n",
      "| GrahamCampbell|[1, 12, 22, 38, 4...|      34|\n",
      "|         hadley|[1, 1, 1, 19, 24,...|      34|\n",
      "|         jsoref|[32, 40, 44, 53, ...|      33|\n",
      "|  weierophinney|[1, 1, 2, 4, 5, 6...|      32|\n",
      "|             dg|[20, 55, 56, 60, ...|      31|\n",
      "|     freekmurze|[14, 78, 97, 137,...|      30|\n",
      "|          tas50|[1, 2, 2, 3, 3, 4...|      29|\n",
      "|          dsyer|[1, 4, 5, 7, 22, ...|      28|\n",
      "|        agentzh|[54, 62, 67, 90, ...|      28|\n",
      "|       gregturn|[4, 5, 5, 5, 7, 1...|      28|\n",
      "|         tianon|[1, 1, 1, 2, 2, 2...|      27|\n",
      "+---------------+--------------------+--------+\n",
      "only showing top 20 rows\n",
      "\n"
     ]
    }
   ],
   "source": [
    "ghimpactDF.orderBy(desc('ghimpact')).show()"
   ]
  },
  {
   "cell_type": "markdown",
   "metadata": {},
   "source": [
    "#### 6.2.3 Prepare graphs in NetworkX for network analysis"
   ]
  },
  {
   "cell_type": "code",
   "execution_count": 81,
   "metadata": {},
   "outputs": [
    {
     "name": "stdout",
     "output_type": "stream",
     "text": [
      "Collecting networkx\n",
      "  Downloading networkx-2.5.1-py3-none-any.whl (1.6 MB)\n",
      "Requirement already satisfied: decorator<5,>=4.3 in c:\\users\\wuyuz\\anaconda3\\envs\\myenv\\lib\\site-packages (from networkx) (4.4.2)\n",
      "Installing collected packages: networkx\n",
      "Successfully installed networkx-2.5.1\n"
     ]
    }
   ],
   "source": [
    "# !pip install networkx"
   ]
  },
  {
   "cell_type": "code",
   "execution_count": 152,
   "metadata": {},
   "outputs": [],
   "source": [
    "import networkx as nx"
   ]
  },
  {
   "cell_type": "code",
   "execution_count": 153,
   "metadata": {},
   "outputs": [],
   "source": [
    "pr_forkDF = pr_forkDF.withColumnRenamed('id','project_id')"
   ]
  },
  {
   "cell_type": "code",
   "execution_count": 154,
   "metadata": {},
   "outputs": [
    {
     "name": "stdout",
     "output_type": "stream",
     "text": [
      "root\n",
      " |-- src: integer (nullable = true)\n",
      " |-- dst: integer (nullable = true)\n",
      " |-- project_id: integer (nullable = true)\n",
      "\n"
     ]
    }
   ],
   "source": [
    "edges_user.printSchema()"
   ]
  },
  {
   "cell_type": "code",
   "execution_count": 271,
   "metadata": {},
   "outputs": [],
   "source": [
    "edges_cocommit = edges_user.join(pr_forkDF,'project_id') \\\n",
    "                           .select('src','dst','pagerank') \\\n",
    "                           .withColumnRenamed('pagerank','weight')"
   ]
  },
  {
   "cell_type": "code",
   "execution_count": 272,
   "metadata": {},
   "outputs": [
    {
     "name": "stdout",
     "output_type": "stream",
     "text": [
      "root\n",
      " |-- src: integer (nullable = true)\n",
      " |-- dst: integer (nullable = true)\n",
      " |-- weight: double (nullable = true)\n",
      "\n"
     ]
    }
   ],
   "source": [
    "edges_cocommit.printSchema()"
   ]
  },
  {
   "cell_type": "code",
   "execution_count": 273,
   "metadata": {},
   "outputs": [
    {
     "data": {
      "text/plain": [
       "'C:\\\\Users\\\\wuyuz\\\\Documents\\\\MIE1512\\\\Final Project'"
      ]
     },
     "execution_count": 273,
     "metadata": {},
     "output_type": "execute_result"
    }
   ],
   "source": [
    "os.getcwd()"
   ]
  },
  {
   "cell_type": "code",
   "execution_count": 1000,
   "metadata": {},
   "outputs": [],
   "source": [
    "# # save result to local database for faster future access\n",
    "# edges_cocommit.write.csv('edges_cocommit.csv')"
   ]
  },
  {
   "cell_type": "code",
   "execution_count": 275,
   "metadata": {},
   "outputs": [
    {
     "name": "stdout",
     "output_type": "stream",
     "text": [
      "+-------+-------+------------------+\n",
      "|    src|    dst|            weight|\n",
      "+-------+-------+------------------+\n",
      "|4469689|7949166|0.9080548970436084|\n",
      "|  64724|  77776|0.8805370156451158|\n",
      "|   5566|3220058|0.8691709341979124|\n",
      "|   5566|  82337| 0.876207079855705|\n",
      "| 931540|1795726|1.0538697577149687|\n",
      "+-------+-------+------------------+\n",
      "only showing top 5 rows\n",
      "\n"
     ]
    }
   ],
   "source": [
    "edges_cocommit.show(5)"
   ]
  },
  {
   "cell_type": "markdown",
   "metadata": {},
   "source": [
    "Building a weighted edge list in the format [(node1, node2, repo_fork_pagerank)]:"
   ]
  },
  {
   "cell_type": "code",
   "execution_count": 277,
   "metadata": {},
   "outputs": [],
   "source": [
    "edgeCocommitList = list(edges_cocommit.toPandas().to_records(index=False))"
   ]
  },
  {
   "cell_type": "markdown",
   "metadata": {},
   "source": [
    "Creating a graph and adding the edges (vertices will be created automatically):"
   ]
  },
  {
   "cell_type": "code",
   "execution_count": 753,
   "metadata": {},
   "outputs": [],
   "source": [
    "cocommitGraph = nx.Graph()\n",
    "cocommitGraph.add_weighted_edges_from(edgeCocommitList)"
   ]
  },
  {
   "cell_type": "code",
   "execution_count": 961,
   "metadata": {},
   "outputs": [],
   "source": [
    "def plot_degree_dist(G):\n",
    "    degrees = [G.degree(n) for n in G.nodes()]\n",
    "    degrees_pdf = pd.Series(degrees).value_counts().sort_index()\n",
    "    degSum = np.sum(degrees_pdf)\n",
    "    deg_cdf = np.cumsum(degrees_pdf)/degSum*100\n",
    "    plt.plot(deg_cdf)\n",
    "    plt.xlabel('Degree')\n",
    "    plt.ylabel('Percentage (%)')\n",
    "    plt.title('(a) Cumulative Distribution of Degree')\n",
    "    plt.show()\n",
    "    \n",
    "def plot_clustering_dist(G):\n",
    "    clustering_coef = nx.clustering(G)\n",
    "    cc_pdf = pd.Series(clustering_coef).value_counts().sort_index()\n",
    "    ccSum = np.sum(cc_pdf)\n",
    "    cc_cdf = np.cumsum(cc_pdf)/ccSum*100\n",
    "    plt.plot(cc_cdf)\n",
    "    plt.xlabel('Clustering Coefficient')\n",
    "    plt.ylabel('Percentage (%)')\n",
    "    plt.ylim([0,100])\n",
    "    plt.xlim([0,1])\n",
    "    plt.title('(b) Cumulative Distribution of Clustering Coefficient')\n",
    "    plt.show()\n",
    "    \n",
    "def plot_pagerank_dist(G):\n",
    "    pagerank = G.rdd.map(lambda x: x.pagerank).collect()\n",
    "    pr_pdf = pd.Series(pagerank).value_counts().sort_index()\n",
    "    prSum = np.sum(pr_pdf)\n",
    "    pr_cdf = np.cumsum(pr_pdf)/prSum*100\n",
    "    plt.plot(pr_cdf)\n",
    "    plt.xlabel('Pagerank')\n",
    "    plt.ylabel('Percentage (%)')\n",
    "    plt.ylim([0,100])\n",
    "    plt.title('(c) Cumulative Distribution of Pagerank')\n",
    "    plt.show()\n",
    " \n",
    "def top10components(G):\n",
    "    pos = [str(x)+'th' for x in range(1,11)]\n",
    "    plt.bar(pos,[len(n) for n in sorted(nx.connected_components(G), key = len, reverse=True)[:10]])\n",
    "    plt.xlabel('Top 10 Connected Components')\n",
    "    plt.ylabel('component size')\n",
    "    plt.title('(d) Connected Compoenent Size')\n",
    "    \n",
    "def plot_pathLength_dist(G):\n",
    "    LCC = sorted(nx.connected_components(G), key = len, reverse=True)[0]\n",
    "    H = G.subgraph(LCC)\n",
    "    pl = sorted(nx.shortest_path_length(H))\n",
    "    plList = []\n",
    "    for i in range(len(pl)):\n",
    "        plList += pl[i][1].values()\n",
    "    pl_pdf = pd.Series(plList).value_counts().sort_index()\n",
    "    pl_pdf /= np.sum(pl_pdf)/100\n",
    "    plt.plot(pl_pdf, 'o-')\n",
    "    plt.xlabel('Path Length')\n",
    "    plt.ylabel('Percentage (%)')\n",
    "    plt.title('(e) Distribution of Path Length')\n",
    "\n",
    "def plot_robustness_dist(G):\n",
    "    degPair = [(n,G.degree(n)) for n in G.nodes()]\n",
    "    degPair.sort(key=lambda k: k[1], reverse=True)\n",
    "    posList = [0.01, 0.1, 1, 5, 7, 9, 10, 15, 20]\n",
    "    fracList = np.array(posList)/100\n",
    "    LCC_list = []\n",
    "    restNodes = []\n",
    "    for frac in fracList:\n",
    "        G1 = G.copy()\n",
    "        nodes_rm = [n[0] for n in degPair[:int(len(degPair)*frac)]]\n",
    "        G1.remove_nodes_from(nodes_rm)\n",
    "        nComponents = [len(n) for n in sorted(nx.connected_components(G1), key = len, reverse=True)]\n",
    "        LCC_frac = nComponents[0]/np.sum(nComponents)\n",
    "        LCC_list.append(LCC_frac)\n",
    "        restNodes.append(1-LCC_frac)\n",
    "    pos = range(len(fracList))\n",
    "    plt.bar(pos, restNodes)\n",
    "    plt.bar(pos, LCC_list, bottom = restNodes)\n",
    "    plt.xticks(pos, [str(x)+'%' for x in posList],rotation=60)\n",
    "    plt.xlabel('Fraction of Network Removed')\n",
    "    plt.ylabel('Percentage (%)')\n",
    "    plt.title('(f) Robustness')"
   ]
  },
  {
   "cell_type": "code",
   "execution_count": 938,
   "metadata": {},
   "outputs": [
    {
     "data": {
      "image/png": "[encoded data removed]",
      "text/plain": [
       "<Figure size 432x288 with 1 Axes>"
      ]
     },
     "metadata": {
      "needs_background": "light"
     },
     "output_type": "display_data"
    },
    {
     "name": "stdout",
     "output_type": "stream",
     "text": [
      "Average degree is  7.258385903850337\n"
     ]
    }
   ],
   "source": [
    "#### Degree\n",
    "plot_degree_dist(cocommitGraph)\n",
    "print('Average degree is ', np.mean([cocommitGraph.degree(n) for n in cocommitGraph.nodes()]))"
   ]
  },
  {
   "cell_type": "code",
   "execution_count": 942,
   "metadata": {},
   "outputs": [
    {
     "data": {
      "image/png": "[encoded data removed]",
      "text/plain": [
       "<Figure size 432x288 with 1 Axes>"
      ]
     },
     "metadata": {
      "needs_background": "light"
     },
     "output_type": "display_data"
    },
    {
     "name": "stdout",
     "output_type": "stream",
     "text": [
      "Average clustering coefficient is  0.5265716264397087\n"
     ]
    }
   ],
   "source": [
    "#### Clustering Coefficient\n",
    "plot_clustering_dist(cocommitGraph)\n",
    "print('Average clustering coefficient is ', np.mean(pd.Series(nx.clustering(cocommitGraph))))"
   ]
  },
  {
   "cell_type": "code",
   "execution_count": 747,
   "metadata": {},
   "outputs": [
    {
     "data": {
      "image/png": "[encoded data removed]",
      "text/plain": [
       "<Figure size 432x288 with 1 Axes>"
      ]
     },
     "metadata": {
      "needs_background": "light"
     },
     "output_type": "display_data"
    }
   ],
   "source": [
    "#### Pagerank\n",
    "plot_pagerank_dist(pr_cocommit)"
   ]
  },
  {
   "cell_type": "code",
   "execution_count": 748,
   "metadata": {},
   "outputs": [
    {
     "data": {
      "image/png": "[encoded data removed]",
      "text/plain": [
       "<Figure size 432x288 with 1 Axes>"
      ]
     },
     "metadata": {
      "needs_background": "light"
     },
     "output_type": "display_data"
    }
   ],
   "source": [
    "#### Connected Components\n",
    "top10components(cocommitGraph)"
   ]
  },
  {
   "cell_type": "code",
   "execution_count": 749,
   "metadata": {},
   "outputs": [
    {
     "data": {
      "image/png": "[encoded data removed]",
      "text/plain": [
       "<Figure size 432x288 with 1 Axes>"
      ]
     },
     "metadata": {
      "needs_background": "light"
     },
     "output_type": "display_data"
    }
   ],
   "source": [
    "#### Path Length\n",
    "plot_pathLength_dist(cocommitGraph)"
   ]
  },
  {
   "cell_type": "code",
   "execution_count": 962,
   "metadata": {},
   "outputs": [
    {
     "data": {
      "image/png": "[encoded data removed]",
      "text/plain": [
       "<Figure size 432x288 with 1 Axes>"
      ]
     },
     "metadata": {
      "needs_background": "light"
     },
     "output_type": "display_data"
    }
   ],
   "source": [
    "#### Robustness\n",
    "plot_robustness_dist(cocommitGraph)"
   ]
  },
  {
   "cell_type": "markdown",
   "metadata": {},
   "source": [
    "**Co-commit Network Analysis Result:**"
   ]
  },
  {
   "cell_type": "markdown",
   "metadata": {},
   "source": [
    "Fig (a) shows the cumulative distribution function (CDF) of the degree in the co-commit network, the average degree is 7.25 that is similar to the average degree of the co-authorship network of 6.14 from the original paper. Compared to online social networks (OSNs) of 20 to 30, the network is loosely connected because two developers are considered co-committers and connected in the network only if they have committed to at least one same repository while the users in OSNs can be connected whenever one chooses to follow another. Thus, it is harder to build connections in the co-commit network\n",
    "\n",
    "Fig (b) shows the CDF of the clustering coefficient. The average clustering coefficient is 0.527 that is much larger than that in OSNs (0.14 in Ren-ren, 0.16 in Cyworld [1]), and it is even larger than that of the co-authorship network of the original paper. It indicates that the developers are tightly connected if they contribute to the same repositories. People from the same project groups or companies are more likely to commit together to the same repositories. Similar result can be found in Fig (c).\n",
    "\n",
    "Fig (d) shows the sizes of the 10 largest connected components. There is a huge largest connected component of size 9790 that covers more than 90% of all developers. The 2nd, 3rd, and 4th components have around 100 developers, and the rest have less than 50 developers.\n",
    "\n",
    "Fig (e) shows the distribution of the shortest path of the largest connected component. The average path is 7.86 (as small as the average path from the co-authorship network of 5.96). The small average path with a high clustering coefficient exhibits the properies of small world networks [8]\n",
    "\n",
    "Fig (f) shows the robustness of the co-commit network by removing a fraction of high degree nodes from the network and analyzing the percentage of the largest connected component. At the beginning, the largest connected component consists of more than 40% of the network. By removing up to 9% of the high degree nodes, the largest connected component covers around 20% of the remaining nodes that the network is still well connected. However, the co-commit network is not as robust as the co-authorship network because the co-authorship network has a largest connected component covering about 30% of the remaining nodes after removing 20% of the high degree nodes."
   ]
  },
  {
   "cell_type": "markdown",
   "metadata": {},
   "source": [
    "### 6.3 Comparison Among Different Progamming Languages"
   ]
  },
  {
   "cell_type": "code",
   "execution_count": 888,
   "metadata": {},
   "outputs": [
    {
     "name": "stdout",
     "output_type": "stream",
     "text": [
      "+----------------+--------------------+\n",
      "|project_language|      committer_list|\n",
      "+----------------+--------------------+\n",
      "|              C#|[2063243, 1087208...|\n",
      "|            Rust|[1055437, 2476835...|\n",
      "|      JavaScript|[36376715, 142609...|\n",
      "|            Perl|[19983, 6988652, ...|\n",
      "|             C++|[353904, 11196514...|\n",
      "|Jupyter Notebook|[116548, 1276966,...|\n",
      "|               C|[139780, 163014, ...|\n",
      "|     Objective-C|[247548, 4856894,...|\n",
      "|           Swift|[10038333, 336128...|\n",
      "|      TypeScript|[4435562, 3198076...|\n",
      "|             CSS|[11251791, 500007...|\n",
      "|            HTML|[13100074, 169396...|\n",
      "|               R|[460606, 2809735,...|\n",
      "|           Scala|[2573913, 1887276...|\n",
      "|             PHP|[43283, 5709575, ...|\n",
      "|              Go|[83911, 6654416, ...|\n",
      "|            Ruby|[51442, 11741825,...|\n",
      "|          Python|[219309, 750523, ...|\n",
      "|            Java|[3437083, 7829765...|\n",
      "|           Shell|[866140, 2008922,...|\n",
      "+----------------+--------------------+\n",
      "\n"
     ]
    }
   ],
   "source": [
    "committerByLanguage = primary_committers.select('project_language','committer_login','committer_id').distinct() \\\n",
    "                                        .groupBy('project_language').agg(collect_list('committer_id').alias('committer_list'))\n",
    "committerByLanguage.show()"
   ]
  },
  {
   "cell_type": "code",
   "execution_count": 1003,
   "metadata": {},
   "outputs": [],
   "source": [
    "df1 = committerByLanguage.rdd.map(lambda x: (x[0],([n for n in x[1] if n in list(cocommitGraph.nodes())])))"
   ]
  },
  {
   "cell_type": "code",
   "execution_count": 1022,
   "metadata": {},
   "outputs": [],
   "source": [
    "df2 = df1.toDF(['project_language','committer_list'])"
   ]
  },
  {
   "cell_type": "code",
   "execution_count": 1031,
   "metadata": {},
   "outputs": [],
   "source": [
    "# # save language_committer_list to local as parquet file for faster access\n",
    "# df2.write.parquet(path = os.getcwd()+'\\language_committer_list.parquet')\n",
    "\n",
    "df2 = spark.read.parquet('language_committer_list.parquet')"
   ]
  },
  {
   "cell_type": "code",
   "execution_count": 1056,
   "metadata": {},
   "outputs": [
    {
     "name": "stdout",
     "output_type": "stream",
     "text": [
      "+----------------+--------------------+-----------+\n",
      "|project_language|      committer_list|length_list|\n",
      "+----------------+--------------------+-----------+\n",
      "|      JavaScript|[142609, 20185, 6...|       4060|\n",
      "|          Python|[750523, 203326, ...|       3756|\n",
      "|            Java|[4878950, 803453,...|       2438|\n",
      "|             C++|[353904, 4661122,...|       2275|\n",
      "|               C|[163014, 960279, ...|       1581|\n",
      "|     Objective-C|[13939, 659477, 1...|        121|\n",
      "|             PHP|[5709575, 424344,...|       1463|\n",
      "|            Ruby|[428677, 33995401...|       1369|\n",
      "|            HTML|[238422, 330935, ...|       1066|\n",
      "|              Go|[83911, 6654416, ...|        959|\n",
      "|           Shell|[7292447, 15157, ...|        804|\n",
      "|              C#|[2063243, 556041,...|        793|\n",
      "|             CSS|[9159079, 10102, ...|        694|\n",
      "|           Scala|[2573913, 3589526...|        331|\n",
      "|            Rust|[109548, 1559013,...|        296|\n",
      "|      TypeScript|[1247645, 507983,...|        278|\n",
      "|            Perl|[161996, 51779, 5...|        270|\n",
      "|               R|[2809735, 4865364...|        181|\n",
      "|Jupyter Notebook|[116548, 8358625,...|        127|\n",
      "|           Swift|[29180, 10852935,...|        139|\n",
      "+----------------+--------------------+-----------+\n",
      "\n"
     ]
    }
   ],
   "source": [
    "lenUDF = udf(lambda x: len(x))\n",
    "df2.withColumn('length_list',lenUDF(col('committer_list'))).show()"
   ]
  },
  {
   "cell_type": "code",
   "execution_count": null,
   "metadata": {},
   "outputs": [],
   "source": [
    "# find the gh-impact for each primary committer\n",
    "committer_ghiDF = primary_committers.select('project_language','committer_login','committer_id').distinct().join(ghimpactDF,'committer_login')"
   ]
  },
  {
   "cell_type": "code",
   "execution_count": 1027,
   "metadata": {},
   "outputs": [],
   "source": [
    "# # save committer_ghiDF to local as parquet file for faster access\n",
    "# committer_ghiDF.write.parquet(path = os.getcwd()+'\\committer_ghiDF.parquet')\n",
    "\n",
    "committer_ghiDF = spark.read.parquet('committer_ghiDF.parquet')"
   ]
  },
  {
   "cell_type": "markdown",
   "metadata": {},
   "source": [
    "**Justification for using Pandas here:** "
   ]
  },
  {
   "cell_type": "markdown",
   "metadata": {},
   "source": [
    "I **do not** use Pandas to process or prepare any data. All data processing and preparation have been done using pySaprk and SparkSQL before using the networkX. The pandas here is merely a tool for more organized list representation to show the result, and the list lenghts do not exceed 4060 for this analysis. The Pandas here can be totally replace by creating 20 different numpy arrays for each language and then generating networkx subgraphs for nodes of each language. The main reason it cannot be done in spark dataframe is because we need to generate networkx subgraphs (non-scalable tool) for each language."
   ]
  },
  {
   "cell_type": "code",
   "execution_count": 1053,
   "metadata": {},
   "outputs": [],
   "source": [
    "committerByLanguageDF = df2.toPandas()"
   ]
  },
  {
   "cell_type": "markdown",
   "metadata": {},
   "source": [
    "Create Subgraphs from the Co-commit network separated by programming languages"
   ]
  },
  {
   "cell_type": "code",
   "execution_count": 908,
   "metadata": {},
   "outputs": [],
   "source": [
    "committerByLanguageDF['subgraph'] = committerByLanguageDF.committer_list.apply(lambda x: cocommitGraph.subgraph(x))"
   ]
  },
  {
   "cell_type": "code",
   "execution_count": 917,
   "metadata": {},
   "outputs": [],
   "source": [
    "committerByLanguageDF['avg_degree'] = committerByLanguageDF.subgraph.apply(lambda G: np.mean([G.degree(n) for n in G.nodes()]))"
   ]
  },
  {
   "cell_type": "code",
   "execution_count": 927,
   "metadata": {},
   "outputs": [],
   "source": [
    "committerByLanguageDF['avg_CC'] = committerByLanguageDF.subgraph.apply(lambda G: np.mean(list(nx.clustering(G).values())))"
   ]
  },
  {
   "cell_type": "code",
   "execution_count": 937,
   "metadata": {},
   "outputs": [],
   "source": [
    "committerByLanguageDF['avg_pagerank'] = committerByLanguageDF.committer_list.apply(lambda x: np.mean(pr_cocommit.filter(col('id').isin(x)).rdd.map(lambda df: df.pagerank).collect()))"
   ]
  },
  {
   "cell_type": "code",
   "execution_count": 975,
   "metadata": {},
   "outputs": [],
   "source": [
    "committerByLanguageDF['avg_ghimpact'] = committerByLanguageDF.committer_list.apply(lambda x: np.mean(committer_ghiDF.filter(col('committer_id').isin(x)).rdd.map(lambda df: df.ghimpact).collect()))"
   ]
  },
  {
   "cell_type": "code",
   "execution_count": 982,
   "metadata": {},
   "outputs": [],
   "source": [
    "# # save the committerByLanguageDF result to local csv for faster future access\n",
    "# committerByLanguageDF.to_csv('committerByLanguageDF.csv',index=False)"
   ]
  },
  {
   "cell_type": "code",
   "execution_count": 1057,
   "metadata": {},
   "outputs": [],
   "source": [
    "# read from local csv results for faster recovery\n",
    "committerByLanguageDF = pd.read_csv('committerByLanguageDF.csv')"
   ]
  },
  {
   "cell_type": "code",
   "execution_count": 1058,
   "metadata": {},
   "outputs": [
    {
     "data": {
      "text/html": [
       "<div>\n",
       "<style scoped>\n",
       "    .dataframe tbody tr th:only-of-type {\n",
       "        vertical-align: middle;\n",
       "    }\n",
       "\n",
       "    .dataframe tbody tr th {\n",
       "        vertical-align: top;\n",
       "    }\n",
       "\n",
       "    .dataframe thead th {\n",
       "        text-align: right;\n",
       "    }\n",
       "</style>\n",
       "<table border=\"1\" class=\"dataframe\">\n",
       "  <thead>\n",
       "    <tr style=\"text-align: right;\">\n",
       "      <th></th>\n",
       "      <th>project_language</th>\n",
       "      <th>avg_degree</th>\n",
       "      <th>avg_CC</th>\n",
       "      <th>avg_pagerank</th>\n",
       "      <th>avg_ghimpact</th>\n",
       "    </tr>\n",
       "  </thead>\n",
       "  <tbody>\n",
       "    <tr>\n",
       "      <th>1</th>\n",
       "      <td>Rust</td>\n",
       "      <td>14.364865</td>\n",
       "      <td>0.409354</td>\n",
       "      <td>2.176399</td>\n",
       "      <td>3.883162</td>\n",
       "    </tr>\n",
       "    <tr>\n",
       "      <th>15</th>\n",
       "      <td>Go</td>\n",
       "      <td>11.441084</td>\n",
       "      <td>0.453293</td>\n",
       "      <td>1.944861</td>\n",
       "      <td>2.924812</td>\n",
       "    </tr>\n",
       "    <tr>\n",
       "      <th>13</th>\n",
       "      <td>Scala</td>\n",
       "      <td>10.833837</td>\n",
       "      <td>0.534666</td>\n",
       "      <td>1.858003</td>\n",
       "      <td>3.000000</td>\n",
       "    </tr>\n",
       "    <tr>\n",
       "      <th>4</th>\n",
       "      <td>C++</td>\n",
       "      <td>5.061099</td>\n",
       "      <td>0.422038</td>\n",
       "      <td>1.642240</td>\n",
       "      <td>2.462079</td>\n",
       "    </tr>\n",
       "    <tr>\n",
       "      <th>0</th>\n",
       "      <td>C#</td>\n",
       "      <td>5.414880</td>\n",
       "      <td>0.434023</td>\n",
       "      <td>1.583742</td>\n",
       "      <td>2.567460</td>\n",
       "    </tr>\n",
       "    <tr>\n",
       "      <th>9</th>\n",
       "      <td>TypeScript</td>\n",
       "      <td>1.820144</td>\n",
       "      <td>0.250309</td>\n",
       "      <td>1.570832</td>\n",
       "      <td>2.570312</td>\n",
       "    </tr>\n",
       "    <tr>\n",
       "      <th>17</th>\n",
       "      <td>Python</td>\n",
       "      <td>3.920128</td>\n",
       "      <td>0.365286</td>\n",
       "      <td>1.547766</td>\n",
       "      <td>2.616305</td>\n",
       "    </tr>\n",
       "    <tr>\n",
       "      <th>6</th>\n",
       "      <td>C</td>\n",
       "      <td>2.708412</td>\n",
       "      <td>0.330879</td>\n",
       "      <td>1.527936</td>\n",
       "      <td>2.845136</td>\n",
       "    </tr>\n",
       "    <tr>\n",
       "      <th>19</th>\n",
       "      <td>Shell</td>\n",
       "      <td>0.808458</td>\n",
       "      <td>0.100871</td>\n",
       "      <td>1.527506</td>\n",
       "      <td>2.725260</td>\n",
       "    </tr>\n",
       "    <tr>\n",
       "      <th>16</th>\n",
       "      <td>Ruby</td>\n",
       "      <td>5.425858</td>\n",
       "      <td>0.367233</td>\n",
       "      <td>1.527093</td>\n",
       "      <td>2.987616</td>\n",
       "    </tr>\n",
       "    <tr>\n",
       "      <th>2</th>\n",
       "      <td>JavaScript</td>\n",
       "      <td>2.816256</td>\n",
       "      <td>0.307753</td>\n",
       "      <td>1.503756</td>\n",
       "      <td>2.841204</td>\n",
       "    </tr>\n",
       "    <tr>\n",
       "      <th>18</th>\n",
       "      <td>Java</td>\n",
       "      <td>4.371616</td>\n",
       "      <td>0.409873</td>\n",
       "      <td>1.499662</td>\n",
       "      <td>2.428571</td>\n",
       "    </tr>\n",
       "    <tr>\n",
       "      <th>11</th>\n",
       "      <td>HTML</td>\n",
       "      <td>0.679174</td>\n",
       "      <td>0.126646</td>\n",
       "      <td>1.490845</td>\n",
       "      <td>2.548865</td>\n",
       "    </tr>\n",
       "    <tr>\n",
       "      <th>14</th>\n",
       "      <td>PHP</td>\n",
       "      <td>4.298018</td>\n",
       "      <td>0.406218</td>\n",
       "      <td>1.483985</td>\n",
       "      <td>2.886861</td>\n",
       "    </tr>\n",
       "    <tr>\n",
       "      <th>3</th>\n",
       "      <td>Perl</td>\n",
       "      <td>2.540741</td>\n",
       "      <td>0.294185</td>\n",
       "      <td>1.481422</td>\n",
       "      <td>3.191571</td>\n",
       "    </tr>\n",
       "    <tr>\n",
       "      <th>8</th>\n",
       "      <td>Swift</td>\n",
       "      <td>1.107914</td>\n",
       "      <td>0.194201</td>\n",
       "      <td>1.418528</td>\n",
       "      <td>3.102941</td>\n",
       "    </tr>\n",
       "    <tr>\n",
       "      <th>10</th>\n",
       "      <td>CSS</td>\n",
       "      <td>0.443804</td>\n",
       "      <td>0.039625</td>\n",
       "      <td>1.395080</td>\n",
       "      <td>2.525000</td>\n",
       "    </tr>\n",
       "    <tr>\n",
       "      <th>12</th>\n",
       "      <td>R</td>\n",
       "      <td>1.414365</td>\n",
       "      <td>0.157445</td>\n",
       "      <td>1.365285</td>\n",
       "      <td>3.213483</td>\n",
       "    </tr>\n",
       "    <tr>\n",
       "      <th>5</th>\n",
       "      <td>Jupyter Notebook</td>\n",
       "      <td>0.377953</td>\n",
       "      <td>0.070866</td>\n",
       "      <td>1.311822</td>\n",
       "      <td>2.210084</td>\n",
       "    </tr>\n",
       "    <tr>\n",
       "      <th>7</th>\n",
       "      <td>Objective-C</td>\n",
       "      <td>0.495868</td>\n",
       "      <td>0.059229</td>\n",
       "      <td>1.301588</td>\n",
       "      <td>2.596639</td>\n",
       "    </tr>\n",
       "  </tbody>\n",
       "</table>\n",
       "</div>"
      ],
      "text/plain": [
       "    project_language  avg_degree    avg_CC  avg_pagerank  avg_ghimpact\n",
       "1               Rust   14.364865  0.409354      2.176399      3.883162\n",
       "15                Go   11.441084  0.453293      1.944861      2.924812\n",
       "13             Scala   10.833837  0.534666      1.858003      3.000000\n",
       "4                C++    5.061099  0.422038      1.642240      2.462079\n",
       "0                 C#    5.414880  0.434023      1.583742      2.567460\n",
       "9         TypeScript    1.820144  0.250309      1.570832      2.570312\n",
       "17            Python    3.920128  0.365286      1.547766      2.616305\n",
       "6                  C    2.708412  0.330879      1.527936      2.845136\n",
       "19             Shell    0.808458  0.100871      1.527506      2.725260\n",
       "16              Ruby    5.425858  0.367233      1.527093      2.987616\n",
       "2         JavaScript    2.816256  0.307753      1.503756      2.841204\n",
       "18              Java    4.371616  0.409873      1.499662      2.428571\n",
       "11              HTML    0.679174  0.126646      1.490845      2.548865\n",
       "14               PHP    4.298018  0.406218      1.483985      2.886861\n",
       "3               Perl    2.540741  0.294185      1.481422      3.191571\n",
       "8              Swift    1.107914  0.194201      1.418528      3.102941\n",
       "10               CSS    0.443804  0.039625      1.395080      2.525000\n",
       "12                 R    1.414365  0.157445      1.365285      3.213483\n",
       "5   Jupyter Notebook    0.377953  0.070866      1.311822      2.210084\n",
       "7        Objective-C    0.495868  0.059229      1.301588      2.596639"
      ]
     },
     "execution_count": 1058,
     "metadata": {},
     "output_type": "execute_result"
    }
   ],
   "source": [
    "committerByLanguageDF[['project_language','avg_degree','avg_CC','avg_pagerank','avg_ghimpact']].sort_values('avg_pagerank',ascending = False)"
   ]
  },
  {
   "cell_type": "markdown",
   "metadata": {},
   "source": [
    "**Result**"
   ]
  },
  {
   "cell_type": "markdown",
   "metadata": {},
   "source": [
    "Developers using Rust, Scala, and Go have the highest average degree (14.4, 10.8, and 11.4 respectively), and it indicates people using such languages tend to be collaborate with a larger group of developers. It can be inferred that theses three programming languages are more commonly used for large scale projects. Scala, Go, C#, and C++ have the highest clustering coefficient. This is due to developers working with such languages tend to collaborate with more specific groups of people while other languages can be for more general use that developers can work with various people."
   ]
  },
  {
   "cell_type": "markdown",
   "metadata": {},
   "source": [
    "### 6.4 Co-commit Network and Impact Metrics"
   ]
  },
  {
   "cell_type": "code",
   "execution_count": 994,
   "metadata": {},
   "outputs": [
    {
     "data": {
      "text/plain": [
       "array([[1.        , 0.56396233],\n",
       "       [0.56396233, 1.        ]])"
      ]
     },
     "execution_count": 994,
     "metadata": {},
     "output_type": "execute_result"
    }
   ],
   "source": [
    "np.corrcoef(committerByLanguageDF.avg_degree,committerByLanguageDF.avg_ghimpact)"
   ]
  },
  {
   "cell_type": "code",
   "execution_count": 996,
   "metadata": {},
   "outputs": [
    {
     "data": {
      "text/plain": [
       "array([[1.        , 0.57030991],\n",
       "       [0.57030991, 1.        ]])"
      ]
     },
     "execution_count": 996,
     "metadata": {},
     "output_type": "execute_result"
    }
   ],
   "source": [
    "np.corrcoef(committerByLanguageDF.avg_pagerank,committerByLanguageDF.avg_ghimpact)"
   ]
  },
  {
   "cell_type": "markdown",
   "metadata": {},
   "source": [
    "**Correlation between the co-commit network metrics and GH-impact**"
   ]
  },
  {
   "cell_type": "markdown",
   "metadata": {},
   "source": [
    "|           | average degree | average PageRank |\n",
    "|-----------|----------------|------------------|\n",
    "| GH-impact | 0.56           | 0.57             |"
   ]
  },
  {
   "cell_type": "markdown",
   "metadata": {},
   "source": [
    "Either the correlation between the pagerank or degree of a developer in the co-commit network and the GH-impact exhibits moderate positive linear correlation. It is not as strong as the correlation observed in the co-authorship network in the original paper where the correlation value between the pagerank and h-index is 0.73. However, the \"importance\" of a developer in the co-commit network is still a good indicator for his or her GH-impact. In another word, developers with more importance positions in the co-commit network are more influential that their repositories tend to be more popular among all developers"
   ]
  },
  {
   "cell_type": "markdown",
   "metadata": {},
   "source": [
    "## 7. Discussion and Future Work\n",
    "**RQ1**: How are developers distributed in terms of programming languages?"
   ]
  },
  {
   "cell_type": "markdown",
   "metadata": {},
   "source": [
    "JavaScript is found to be the most popular programming languages on GitHub that is has 21.25% of the entire active developer base. Most of active projects (Around 20.83%) are written in JavaScript followed by Python (11.66%). We found that although JavaScript covers much more repositories and developers than Python, the difference in terms of number of commits is not as much. Another interesting feature is that only 2.96% of repositories are written in C and 3.8% of developers primarily program in C, the number of commits of C ranks the 4th (around 9.9% of all commits). That repositories written in C tends to have more commits can be because C is a low level language and it does not allow run-time checking or object-oriented programming and thus code-reuse."
   ]
  },
  {
   "cell_type": "markdown",
   "metadata": {},
   "source": [
    "**RQ2**: What are the unique features of the collaboration pattern of developers in the co-commit network?"
   ]
  },
  {
   "cell_type": "markdown",
   "metadata": {},
   "source": [
    "The co-commit network is loosely connect with an average degree of 7.25 that is similar to the average degree of the co-authorship network of 6.14 from the original paper. Compared to around 20 to 30 average degrees in the OSNs, it is harder to build a connect in the co-commit network because the developers have to collaborate on at least one project while users in OSNs can be connected by simply following each other. Also the largest connected component co-commit network covers more than 90% of all developer, and it has low average shortest path (7.86) with a relatively large clustering coefficient (0.53), which are the key features of small world networks"
   ]
  },
  {
   "cell_type": "markdown",
   "metadata": {},
   "source": [
    "**RQ3**: What is the correlation between developer’s position in the co-commit network and influence metrics that can imply the popularity of the developer’s repositories?"
   ]
  },
  {
   "cell_type": "markdown",
   "metadata": {},
   "source": [
    "The PageRank of a developer indicates his or her importance in the co-commit network. Such importance metric in the co-commit network is found to have a positive linear correlation with the GH-impact (analogous to the h-index of a scholar in academic paper publications) of a Pearson correlation coefficient of 0.57. Therefore, the importance of a developer's position in the co-commit network can be a good indicator of higher GH-impact that his or her repositories are more influential."
   ]
  },
  {
   "cell_type": "markdown",
   "metadata": {},
   "source": [
    "#### Review / Future Work\n",
    "\n",
    "- watches can also be a good indicator of the impact of a repository in addition to the fork PageRank of the fork information.\n",
    "- user types are categorized into individual accounts and organizational accounts. Although most of the users are individual accounts, the distribution of the user types can be future investigated. \n",
    "- the company/institution information can be derived from the email domain or the uesr description from the raw database. The distribution of developers of the top companies/institutions and their impacts in terms of the network metrics can be analyzed"
   ]
  },
  {
   "cell_type": "markdown",
   "metadata": {},
   "source": [
    "## Bibliographic References\n",
    "\n",
    "[1] Y. Chen, C. Ding, J. Hu, R. Chen, P. Hui, and X. Fu, “Building and analyzing a global co-authorship network using google scholar data,” 26th Int. World Wide Web Conf. 2017, WWW 2017 Companion, pp. 1219–1224, 2019, doi: 10.1145/3041021.3053056.\n",
    "\n",
    "[2] Y. Hu, J. Zhang, X. Bai, S. Yu, and Z. Yang, “Influence analysis of Github repositories,” Springerplus, vol. 5, no. 1, 2016, doi: 10.1186/s40064-016-2897-7.\n",
    "\n",
    "[3] T. Rattenbury, J. M. Hellerstein, J. M. Heer, S. Kandel, and C. Carreras, Principles of data wrangling: practical techniques for data preparation. Sebastopol: OReilly, 2017.\n",
    "\n",
    "[4] E. Cohen and M. P. Consens, “Large-scale analysis of the co-commit patterns of the active developers in github’s top repositories,” Proc. - Int. Conf. Softw. Eng., pp. 426–436, 2018, doi: 10.1145/3196398.3196436.\n",
    "\n",
    "[5] G. Gousios, \"The GHTorrent dataset and tool suite\" in Proceedings of the 10th Working Conference on Mining Software Repositories (MSR), San Francisco, CA, USA, 2013, pp. 233-236\n",
    "\n",
    "[6] E. Kalliamvakou, L. Singer, G. Gousios, D. M. German, K. Blincoe, and D. Damian, “The promises and perils of mining GitHub,” 11th Work. Conf. Min. Softw. Repos. MSR 2014 - Proc., no. April 2015, pp. 92–101, 2014, doi: 10.1145/2597073.2597074.\n",
    "\n",
    "[7] I. D. Miller, “Influence on GitHub : Individual Limits and Organization Advantages,” pp. 1–3, 2016.\n",
    "\n",
    "[8] D. J. Watts. Networks, Dynamics, and the Small-World Phenomenon. American Journal of Sociology, 105(2):493–527, 1999."
   ]
  }
 ],
 "metadata": {
  "kernelspec": {
   "display_name": "Python 3",
   "language": "python",
   "name": "python3"
  },
  "language_info": {
   "codemirror_mode": {
    "name": "ipython",
    "version": 3
   },
   "file_extension": ".py",
   "mimetype": "text/x-python",
   "name": "python",
   "nbconvert_exporter": "python",
   "pygments_lexer": "ipython3",
   "version": "3.8.3"
  }
 },
 "nbformat": 4,
 "nbformat_minor": 4
}
